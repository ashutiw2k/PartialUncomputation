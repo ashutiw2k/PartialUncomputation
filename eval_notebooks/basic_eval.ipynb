{
 "cells": [
  {
   "cell_type": "code",
   "execution_count": 123,
   "metadata": {},
   "outputs": [],
   "source": [
    "from qiskit import QuantumCircuit, QuantumRegister\n",
    "import os, sys\n",
    "import numpy\n",
    "import random\n",
    "from tqdm import tqdm\n",
    "import rustworkx\n",
    "\n",
    "if not '../' in sys.path:\n",
    "    sys.path.insert(1, '../')"
   ]
  },
  {
   "cell_type": "code",
   "execution_count": 124,
   "metadata": {},
   "outputs": [
    {
     "name": "stdout",
     "output_type": "stream",
     "text": [
      "/home/ashutosh/Desktop/Uncomputation-Code/eval_notebooks\n",
      "['/usr/lib/python310.zip', '../', '/usr/lib/python3.10', '/usr/lib/python3.10/lib-dynload', '', '/home/ashutosh/.local/lib/python3.10/site-packages', '/usr/local/lib/python3.10/dist-packages', '/usr/lib/python3/dist-packages']\n"
     ]
    }
   ],
   "source": [
    "d = os.getcwd()\n",
    "print(d)\n",
    "print(sys.path)"
   ]
  },
  {
   "cell_type": "code",
   "execution_count": 125,
   "metadata": {},
   "outputs": [],
   "source": [
    "valid_num_circuits = 10"
   ]
  },
  {
   "cell_type": "code",
   "execution_count": 126,
   "metadata": {},
   "outputs": [],
   "source": [
    "from helperfunctions.circuitgraphfunctions import get_computation_graph, get_uncomp_circuit\n",
    "from helperfunctions.uncompfunctions import add_uncomputation, exhaustive_uncomputation_adding, greedy_uncomputation_full, greedy_uncomputation_partial\n",
    "from helperfunctions.graphhelper import edge_attr, edge_matcher,node_attr,node_matcher, breakdown_qubit\n",
    "from helperfunctions.measurecircuit import get_statevector, get_probability_from_statevector, zero_ancillas_in_statevector\n",
    "from helperfunctions.constants import UncompType"
   ]
  },
  {
   "cell_type": "code",
   "execution_count": 127,
   "metadata": {},
   "outputs": [],
   "source": [
    "def random_quantum_circuit_large_distinct_nums(num_q, num_a) -> tuple[QuantumCircuit,int,int,int]:\n",
    "    \n",
    "    # num_q = random.randint(3,10)\n",
    "    # num_a = random.randint(3,10)\n",
    "    # num_g = random.randint(50, 100)\n",
    "    # num_g = random.randint(10,50)\n",
    "    num_g = 25\n",
    "\n",
    "    cc_gates = 0\n",
    "    ca_gates = 0\n",
    "    ac_gates = 0\n",
    "    aa_gates = 0\n",
    "    \n",
    "    in_q = QuantumRegister(num_q, name='cq')\n",
    "    an_q = QuantumRegister(num_a, name='aq')\n",
    "    \n",
    "    circuit = QuantumCircuit(in_q, an_q)\n",
    "\n",
    "    for q in in_q:\n",
    "        circuit.x(q)\n",
    "        circuit.h(q)\n",
    "    \n",
    "    for i in tqdm(range(num_g), desc=f'Building Random Quantum Circuit with {num_q}q, {num_a}a, {num_g}g'):\n",
    "\n",
    "        control_q = in_q\n",
    "        target_q = in_q\n",
    "\n",
    "        change_target_controls = random.random()\n",
    "\n",
    "        if change_target_controls > 0.8: # Input acts on Input only    \n",
    "            control_q = an_q\n",
    "            target_q = an_q\n",
    "            aa_gates += 1\n",
    "\n",
    "        elif change_target_controls > 0.4: \n",
    "            # control_q = in_q\n",
    "            if random.random() > 0.5:\n",
    "                target_q = an_q\n",
    "                ca_gates += 1\n",
    "            else:\n",
    "                control_q = an_q\n",
    "                ac_gates += 1\n",
    "\n",
    "        else:\n",
    "            cc_gates += 1 \n",
    "            \n",
    "\n",
    "        num_controls = random.randrange(1, control_q.size)\n",
    "        target = random.randrange(target_q.size) # Get target qubit\n",
    "        controls = random.sample(range(control_q.size), num_controls)  # Get control qubit/s\n",
    "        # target = random.randrange(target_q.size) # Get target qubit\n",
    "        if control_q == target_q:\n",
    "            target = random.randrange(target_q.size) # Get target qubit\n",
    "            valid_controls = list(range(control_q.size))\n",
    "            valid_controls.remove(target)\n",
    "            controls = random.sample(valid_controls, num_controls)  # Get control qubit/s\n",
    "        else:\n",
    "            target = random.randrange(target_q.size) # Get target qubit\n",
    "            controls = random.sample(range(control_q.size), num_controls)  # Get control qubit/s\n",
    "        \n",
    "        # print(num_controls, controls, target)\n",
    "        circuit.mcx([control_q[cq] for cq in controls],target_q[target]) \n",
    "\n",
    "    # logger.info(f'Built circuit with {num_q} input, {num_a} ancilla and {num_g} gates.')\n",
    "    # logger.info(f'There are {cc_gates} gates acting between control qubits, {ca_gates} gates acting between control and ancilla, {ac_gates} gates acting between ancilla and control and {aa_gates} gates acting between just the ancillas.')\n",
    "    print(f'Built circuit with {num_q} input, {num_a} ancilla and {num_g} gates.')\n",
    "    print(f'There are {cc_gates} gates acting between control qubits, {ca_gates} gates acting between control and ancilla, {ac_gates} gates acting between ancilla and control and {aa_gates} gates acting between just the ancillas.')\n",
    "    \n",
    "    return circuit, num_q, num_a, num_g\n",
    "\n",
    "def get_eval_results(comp_circuit: QuantumCircuit, uncomp_circuit:QuantumCircuit, num_a):\n",
    "    eq4_comp_statevector = get_statevector(comp_circuit)\n",
    "    eq4_comp_prob_dist = get_probability_from_statevector(eq4_comp_statevector)\n",
    "    # logger.info(f'Comp Circuit {name_str} Eq4 Probability Distribution: \\n{print_probs(eq4_comp_prob_dist)}')\n",
    "\n",
    "    eq5_comp_statevector = zero_ancillas_in_statevector(eq4_comp_statevector, num_a)\n",
    "    eq5_comp_prob_dist = get_probability_from_statevector(eq5_comp_statevector)\n",
    "    # logger.info(f'Comp Circuit {name_str} Eq5 Probability Distribution: \\n{print_probs(eq5_comp_prob_dist)}')\n",
    "\n",
    "    eq4_uncomp_statevector = get_statevector(uncomp_circuit)\n",
    "    eq4_uncomp_prob_dist = get_probability_from_statevector(eq4_uncomp_statevector)\n",
    "    # logger.info(f'{uncomp_type.capitalize()} Uncomp Circuit {name_str} Eq4 Probability Distribution: \\n{print_probs(eq4_uncomp_prob_dist)}')\n",
    "\n",
    "    distance_probs_eq5_4_comp = numpy.linalg.norm(eq5_comp_prob_dist - eq4_comp_prob_dist)\n",
    "    distance_probs_eq5_4_uncomp = numpy.linalg.norm(eq4_uncomp_prob_dist - eq5_comp_prob_dist)\n",
    "    \n",
    "    distance_probs_eq5_4_comp, distance_probs_eq5_4_uncomp = numpy.round((distance_probs_eq5_4_comp, distance_probs_eq5_4_uncomp), decimals=10)\n",
    "\n",
    "    return distance_probs_eq5_4_comp, distance_probs_eq5_4_uncomp, eq4_comp_prob_dist, eq5_comp_prob_dist, eq4_uncomp_prob_dist\n",
    "\n",
    "\n",
    "    \n"
   ]
  },
  {
   "cell_type": "code",
   "execution_count": 128,
   "metadata": {},
   "outputs": [],
   "source": [
    "class ProbDiffResults:\n",
    "    def __init__(self):\n",
    "        self.exhaustive_comp_diff = numpy.zeros(valid_num_circuits)\n",
    "        self.exhaustive_uncomp_diff = numpy.zeros(valid_num_circuits)\n",
    "        self.exhaustive_eq4 = numpy.zeros(valid_num_circuits)\n",
    "        self.exhaustive_eq5 = numpy.zeros(valid_num_circuits)\n",
    "        self.exhaustive_uncomp = numpy.zeros(valid_num_circuits)\n",
    "        \n",
    "\n",
    "        self.greedy_full_comp_diff = numpy.zeros(valid_num_circuits)\n",
    "        self.greedy_full_uncomp_diff = numpy.zeros(valid_num_circuits)\n",
    "        self.greedy_full_eq4 = numpy.zeros(valid_num_circuits)\n",
    "        self.greedy_full_eq5 = numpy.zeros(valid_num_circuits)\n",
    "        self.greedy_full_uncomp = numpy.zeros(valid_num_circuits)\n",
    "        \n",
    "        self.greedy_partial_comp_diff = numpy.zeros(valid_num_circuits)\n",
    "        self.greedy_partial_uncomp_diff = numpy.zeros(valid_num_circuits)        \n",
    "        self.greedy_partial_eq4 = numpy.zeros(valid_num_circuits)\n",
    "        self.greedy_partial_eq5 = numpy.zeros(valid_num_circuits)\n",
    "        self.greedy_partial_uncomp = numpy.zeros(valid_num_circuits)\n",
    "\n",
    "        self.regular_comp_diff = numpy.zeros(valid_num_circuits)\n",
    "        self.regular_uncomp_diff = numpy.zeros(valid_num_circuits)\n",
    "        self.regular_eq4 = numpy.zeros(valid_num_circuits)\n",
    "        self.regular_eq5 = numpy.zeros(valid_num_circuits)\n",
    "        self.regular_uncomp = numpy.zeros(valid_num_circuits)\n",
    "\n",
    "    def add_to_exhaustive(self, comp_diff, uncomp_diff, eq4, eq5, uncomp, idx):\n",
    "        # numpy.append(self.exhaustive_uncomp_diff, comp)\n",
    "        # numpy.append(self.exhaustive_uncomp_diff, uncomp)\n",
    "        self.exhaustive_comp_diff[idx] = comp_diff\n",
    "        self.exhaustive_uncomp_diff[idx] = uncomp_diff\n",
    "        # self.exhaustive_eq4[idx] = eq4\n",
    "        # self.exhaustive_eq5[idx] = eq5\n",
    "        # self.exhaustive_uncomp[idx] = uncomp\n",
    "\n",
    "\n",
    "    def add_to_greedy_partial(self, comp_diff, uncomp_diff, eq4, eq5, uncomp, idx):\n",
    "        # numpy.append(self.exhaustive_uncomp_diff, comp)\n",
    "        # numpy.append(self.exhaustive_uncomp_diff, uncomp)\n",
    "        self.greedy_partial_comp_diff[idx] = comp_diff\n",
    "        self.greedy_partial_uncomp_diff[idx] = uncomp_diff\n",
    "        # self.greedy_partial_eq4[idx] = eq4\n",
    "        # self.greedy_partial_eq5[idx] = eq5\n",
    "        # self.greedy_partial_uncomp[idx] = uncomp\n",
    "    \n",
    "    def add_to_greedy_full(self, comp_diff, uncomp_diff, eq4, eq5, uncomp, idx):\n",
    "        # numpy.append(self.exhaustive_uncomp_diff, comp)\n",
    "        # numpy.append(self.exhaustive_uncomp_diff, uncomp)\n",
    "        self.greedy_full_comp_diff[idx] = comp_diff\n",
    "        self.greedy_full_uncomp_diff[idx] = uncomp_diff\n",
    "        # self.greedy_full_eq4[idx] = eq4\n",
    "        # self.greedy_full_eq5[idx] = eq5\n",
    "        # self.greedy_full_uncomp[idx] = uncomp\n",
    "    \n",
    "    def add_to_regular(self, comp_diff, uncomp_diff, eq4, eq5, uncomp, idx):\n",
    "        # numpy.append(self.exhaustive_uncomp_diff, comp)\n",
    "        # numpy.append(self.exhaustive_uncomp_diff, uncomp)\n",
    "        self.regular_comp_diff[idx] = comp_diff\n",
    "        self.regular_uncomp_diff[idx] = uncomp_diff\n",
    "        # self.regular_eq4[idx] = eq4\n",
    "        # self.regular_eq5[idx] = eq5\n",
    "        # self.regular_uncomp[idx] = uncomp\n",
    "\n",
    "    def __str__(self):\n",
    "        return f'''\n",
    "                Exhaustive Comp Avg:\\t\\t{numpy.average(self.exhaustive_comp_diff)}\n",
    "                Exhaustive UnComp Avg:\\t\\t{numpy.average(self.exhaustive_uncomp_diff)}\n",
    "                Greedy Full Comp Avg:\\t\\t{numpy.average(self.greedy_full_comp_diff)}\n",
    "                Greedy Full UnComp Avg:\\t\\t{numpy.average(self.greedy_full_uncomp_diff)}\n",
    "                Greedy Partial Comp Avg:\\t{numpy.average(self.greedy_partial_comp_diff)}\n",
    "                Greedy Partial UnComp Avg:\\t{numpy.average(self.greedy_partial_uncomp_diff)}\n",
    "                Regular Comp Avg:\\t\\t{numpy.average(self.regular_comp_diff)}\n",
    "                Regular UnComp Avg:\\t\\t{numpy.average(self.regular_uncomp_diff)}\n",
    "                '''\n",
    "\n",
    "        "
   ]
  },
  {
   "cell_type": "code",
   "execution_count": 129,
   "metadata": {},
   "outputs": [],
   "source": [
    "\n",
    "def get_circuit_metrics(num_q, num_a, results:ProbDiffResults):\n",
    "    print('****************************************************************************')\n",
    "    for idx in range(valid_num_circuits):\n",
    "        # if num_circuits > 0:\n",
    "\n",
    "        #     logger.info(f'Generating Random Circuit {i}')\n",
    "        #     # _circuit, num_q, num_a, num_g = random_quantum_circuit_basic()\n",
    "        #     _circuit, num_q, num_a, num_g = random_quantum_circuit_large()\n",
    "\n",
    "        # else:\n",
    "        #     _circuit, num_q, num_a, num_g = simple_circuit_with_partial_uncomp()\n",
    "\n",
    "        _circuit, num_q, num_a, num_g = random_quantum_circuit_large_distinct_nums(num_q,num_a)\n",
    "            \n",
    "\n",
    "        name_str = f'Circuit_{idx}'\n",
    "\n",
    "        # _circuit.draw('mpl', \n",
    "        #                 filename=f'{eval_dir}/comp_circuit/{name_str}.png')\n",
    "        \n",
    "        # with open(f'{eval_dir}/comp_circuit_qpy/{name_str}.qpy', 'wb') as f:\n",
    "        #     qpy.dump(_circuit, f)\n",
    "        #     f.close()\n",
    "        \n",
    "        # logger.info(f'Building Random Circuit took {time.time_ns()-start_time} ns')\n",
    "        # start_time = time.time_ns()\n",
    "        # logger.info(f'Creating Circuit Graph of circuit {name_str}')\n",
    "        ancillas_list = [breakdown_qubit(q)['label'] for q in _circuit.qubits][-num_a:]\n",
    "        _circuit_graph = get_computation_graph(_circuit, ancillas_list)\n",
    "\n",
    "        # graphviz_draw(_circuit_graph,\n",
    "        #               node_attr_fn=node_attr,\n",
    "        #               edge_attr_fn=edge_attr,\n",
    "        #               filename=f'{eval_dir}/comp_circuit_graph/{name_str}.png')\n",
    "\n",
    "        # logger.info(f'Building Circuit Graph took {time.time_ns()-start_time} ns')\n",
    "        # start_time = time.time_ns()\n",
    "        \n",
    "        if rustworkx.digraph_find_cycle(_circuit_graph):\n",
    "            # print(f'Computation Graph has cycles !!!!')\n",
    "            # logger.error(f'Computation Circuit Graph for circuit {name_str} has cycles!!')\n",
    "            for cycle in rustworkx.simple_cycles(_circuit_graph):\n",
    "                print(cycle)\n",
    "                # logger.error(f'Cycle in {name_str} : {cycle}')\n",
    "\n",
    "        # logger.info(f'Checking for cycle in Comp Circuit Graph took {time.time_ns()-start_time} ns')\n",
    "        # start_time = time.time_ns()\n",
    "        \n",
    "        _regular_uncomp_circuit_graph, has_cycle = add_uncomputation(_circuit_graph, ancillas_list)\n",
    "\n",
    "        # logger.info(f'Adding Uncomputation to circuit graph took {time.time_ns()-start_time} ns')\n",
    "        # start_time = time.time_ns()\n",
    "\n",
    "        if has_cycle:\n",
    "            # logger.warning(f'Trying to uncompute circuit {name_str} produces a cycle')\n",
    "\n",
    "            # logger.info(f'Attempting to run exhaustive uncomp on {name_str}')\n",
    "            largest_set = exhaustive_uncomputation_adding(_circuit_graph, ancillas_list)\n",
    "            print(f'Largest Set of ancilla for {name_str} that can be uncomputed is {largest_set}')\n",
    "            # logger.info(f'Time to find largest set took {time.time_ns()-start_time} ns')\n",
    "            # start_time = time.time_ns()\n",
    "            _exhaustive_uncomp_circuit_graph, has_cycle = add_uncomputation(_circuit_graph, list(largest_set))\n",
    "            if has_cycle:\n",
    "                print(f'Exhaustive Uncomp of {name_str} still has cycle')\n",
    "            \n",
    "            # logger.info(f'Drawing Exhaustive Uncomp Circuit Graph for {name_str}')\n",
    "            # graphviz_draw(_exhaustive_uncomp_circuit_graph,\n",
    "            #           node_attr_fn=node_attr,\n",
    "            #           edge_attr_fn=edge_attr,\n",
    "            #           filename=f'{eval_dir}/exhaustive_uncomp_graph/{name_str}.png')\n",
    "\n",
    "            # logger.info(f'Adding Uncomp for largest set took {time.time_ns()-start_time} ns')\n",
    "            # start_time = time.time_ns()\n",
    "\n",
    "            # logger.info(f'Building Exhaustive Uncomp Circuit for {name_str}')\n",
    "            _exhaustive_uncomp_circuit = get_uncomp_circuit(_exhaustive_uncomp_circuit_graph)\n",
    "            # _exhaustive_uncomp_circuit.draw('mpl', filename=f'{eval_dir}/exhaustive_uncomp_circuit/{name_str}.png')\n",
    "\n",
    "            # logger.info(f'Time to build uncomp circuit took {time.time_ns()-start_time} ns')\n",
    "            # start_time = time.time_ns()\n",
    "\n",
    "            \n",
    "            # evaluate_circuits(comp_circuit=_circuit, \n",
    "            #                     uncomp_circuit=_exhaustive_uncomp_circuit, \n",
    "            #                     num_a=num_a, name_str=name_str, metric=metrics, uncomp_type=UncompType.EXHAUSTIVE)\n",
    "\n",
    "            ex_vals = get_eval_results(_circuit, _exhaustive_uncomp_circuit, num_a)\n",
    "\n",
    "            # print(f'Exhaustive Prob Diff for {name_str}: Uncomp: {uncomp_prob_diff}: Comp: {comp_prob_diff}')\n",
    "            \n",
    "            results.add_to_exhaustive(*ex_vals, idx=idx)\n",
    "\n",
    "            # with open(f'{eval_dir}/exhaustive_uncomp_circuit_qpy/{name_str}.qpy', 'wb') as f:\n",
    "            #     qpy.dump(_exhaustive_uncomp_circuit, f)\n",
    "            #     f.close()\n",
    "            \n",
    "\n",
    "    # ***************************************************************************************************************#\n",
    "            # logger.info(f'Attempting to run greedy uncomp on {name_str}')\n",
    "            _greedy_uncomp_circuit_graph = greedy_uncomputation_full(_circuit_graph, ancillas_list, max_cycles=5*(10**5))\n",
    "            \n",
    "            # logger.info(f'Drawing Greedy Uncomp Circuit Graph for {name_str}')\n",
    "            # graphviz_draw(_greedy_uncomp_circuit_graph,\n",
    "            #           node_attr_fn=node_attr,\n",
    "            #           edge_attr_fn=edge_attr,\n",
    "            #           filename=f'{eval_dir}/greedy_uncomp_graph/{name_str}.png')\n",
    "\n",
    "            # logger.info(f'Building Greedy Uncomp Circuit for {name_str}')\n",
    "            _greedy_uncomp_circuit = get_uncomp_circuit(_greedy_uncomp_circuit_graph)\n",
    "            # _greedy_uncomp_circuit.draw('mpl', filename=f'{eval_dir}/greedy_uncomp_circuit/{name_str}.png')\n",
    "\n",
    "\n",
    "            # evaluate_circuits(comp_circuit=_circuit, \n",
    "            #                     uncomp_circuit=_greedy_uncomp_circuit, \n",
    "            #                     num_a=num_a, name_str=name_str, metric=metrics, uncomp_type=UncompType.GREEDY_FULL)\n",
    "            \n",
    "            gf_vals = get_eval_results(_circuit, _greedy_uncomp_circuit, num_a)\n",
    "            \n",
    "            results.add_to_greedy_full(*gf_vals, idx=idx)\n",
    "\n",
    "            # print(f'Greedy-Full Prob Diff for {name_str}: Uncomp: {uncomp_prob_diff}: Comp: {comp_prob_diff}')\n",
    "\n",
    "            # with open(f'{eval_dir}/greedy_uncomp_circuit_qpy/{name_str}.qpy', 'wb') as f:\n",
    "            #     qpy.dump(_greedy_uncomp_circuit, f)\n",
    "            #     f.close()\n",
    "            \n",
    "\n",
    "    #**************************************************************************************************************#\n",
    "            print(f'Comparing the uncomp circuit grapphs by greedy and exhaustive for {name_str}')\n",
    "            if rustworkx.is_isomorphic(_greedy_uncomp_circuit_graph, _exhaustive_uncomp_circuit_graph,\n",
    "                                        node_matcher=node_matcher, edge_matcher=edge_matcher):\n",
    "                print(f'Both methods return the same circuit graphs')\n",
    "                # metrics.greedy_and_exhaustive_return_same += 1\n",
    "            else:\n",
    "                print(f'Both methods return different circuit graphs')\n",
    "\n",
    "    #**************************************************************************************************************#\n",
    "            # logger.info(f'Attempting to run greedy partial uncomp on {name_str}')\n",
    "            _greedy_partial_uncomp_circuit_graph = greedy_uncomputation_partial(_circuit_graph, ancillas_list, max_cycles=5*(10**5))\n",
    "            \n",
    "            # logger.info(f'Drawing Greedy Partial Uncomp Circuit Graph for {name_str}')\n",
    "            # graphviz_draw(_greedy_partial_uncomp_circuit_graph,\n",
    "            #           node_attr_fn=node_attr,\n",
    "            #           edge_attr_fn=edge_attr,\n",
    "            #           filename=f'{eval_dir}/greedy_partial_uncomp_graph/{name_str}.png')\n",
    "\n",
    "            # logger.info(f'Building Greedy Partial Uncomp Circuit for {name_str}')\n",
    "            _greedy_partial_uncomp_circuit = get_uncomp_circuit(_greedy_partial_uncomp_circuit_graph)\n",
    "            # _greedy_partial_uncomp_circuit.draw('mpl', filename=f'{eval_dir}/greedy_partial_uncomp_circuit/{name_str}.png')\n",
    "\n",
    "            # evaluate_circuits(comp_circuit=_circuit, \n",
    "            #                     uncomp_circuit=_greedy_partial_uncomp_circuit, \n",
    "            #                     num_a=num_a, name_str=name_str, metric=metrics, uncomp_type=UncompType.GREEDY_PARTIAL) \n",
    "\n",
    "            gp_vals = get_eval_results(_circuit, _greedy_partial_uncomp_circuit, num_a)\n",
    "            \n",
    "            results.add_to_greedy_partial(*gp_vals, idx=idx)\n",
    "            # with open(f'{eval_dir}/greedy_partial_uncomp_circuit_qpy/{name_str}.qpy', 'wb') as f:\n",
    "            #     qpy.dump(_greedy_partial_uncomp_circuit, f)\n",
    "            #     f.close()\n",
    "\n",
    "\n",
    "            # print(f'Greedy-Partial Prob Diff for {name_str}: Uncomp: {uncomp_prob_diff}: Comp: {comp_prob_diff}')\n",
    "    #**************************************************************************************************************#\n",
    "        else:\n",
    "            # logger.info(f'Drawing Regular Uncomp Circuit Graph for {name_str}')\n",
    "            # graphviz_draw(_regular_uncomp_circuit_graph,\n",
    "            #           node_attr_fn=node_attr,\n",
    "            #           edge_attr_fn=edge_attr,\n",
    "            #           filename=f'{eval_dir}/regular_uncomp_graph/{name_str}.png')\n",
    "            \n",
    "            # logger.info(f'Building Regular Uncomp Circuit for {name_str}')\n",
    "            _uncomp_circuit = get_uncomp_circuit(_regular_uncomp_circuit_graph)\n",
    "            # _uncomp_circuit.draw('mpl', filename=f'{eval_dir}/regular_uncomp_circuit/{name_str}.png')\n",
    "\n",
    "            # evaluate_circuits(comp_circuit=_circuit, \n",
    "            #                     uncomp_circuit=_uncomp_circuit, \n",
    "            #                     num_a=num_a, name_str=name_str, metric=metrics, uncomp_type=UncompType.REGULAR)\n",
    "            \n",
    "            # metrics.can_be_regularly_uncomputed += 1\n",
    "            reg_vals = get_eval_results(_circuit, _uncomp_circuit, num_a)\n",
    "            \n",
    "            results.add_to_regular(*reg_vals, idx=idx)\n",
    "            # with open(f'{eval_dir}/regular_uncomp_circuit_qpy/{name_str}.qpy', 'wb') as f:\n",
    "            #     qpy.dump(_uncomp_circuit, f)\n",
    "            #     f.close()\n",
    "\n",
    "            # print(f'Regular Prob Diff for {name_str}: Uncomp: {uncomp_prob_diff}: Comp: {comp_prob_diff}')\n",
    "    return results\n"
   ]
  },
  {
   "cell_type": "code",
   "execution_count": 110,
   "metadata": {},
   "outputs": [
    {
     "name": "stdout",
     "output_type": "stream",
     "text": [
      "****************************************************************************\n"
     ]
    },
    {
     "name": "stderr",
     "output_type": "stream",
     "text": [
      "Building Random Quantum Circuit with 5q, 3a, 25g: 100%|██████████| 25/25 [00:00<00:00, 10388.11it/s]\n"
     ]
    },
    {
     "name": "stdout",
     "output_type": "stream",
     "text": [
      "Built circuit with 5 input, 3 ancilla and 25 gates.\n",
      "There are 12 gates acting between control qubits, 5 gates acting between control and ancilla, 3 gates acting between ancilla and control and 5 gates acting between just the ancillas.\n"
     ]
    },
    {
     "name": "stderr",
     "output_type": "stream",
     "text": [
      "Adding Nodes for Circuit: 100%|██████████| 35/35 [00:00<00:00, 96073.72it/s]\n",
      "Adding Uncomputation Nodes:  33%|███▎      | 14/43 [00:00<00:00, 69409.29it/s]\n",
      "Adding Uncomputation Nodes: 100%|██████████| 43/43 [00:00<00:00, 1048576.00it/s]\n",
      "Adding Uncomputation Nodes:  40%|███▉      | 17/43 [00:00<00:00, 85495.41it/s]\n",
      "Adding Uncomputation Nodes:  30%|███       | 13/43 [00:00<00:00, 136656.52it/s]\n",
      "Adding Uncomputation Nodes:  51%|█████     | 22/43 [00:00<00:00, 222885.72it/s]\n",
      "Adding Uncomputation Nodes:  30%|███       | 13/43 [00:00<00:00, 89240.51it/s]\n",
      "Adding Uncomputation Nodes:  40%|███▉      | 17/43 [00:00<00:00, 71517.72it/s]\n",
      "Adding Uncomputation Nodes:  30%|███       | 13/43 [00:00<00:00, 110376.42it/s]\n",
      "Adding Uncomputation Nodes:  33%|███▎      | 14/43 [00:00<00:00, 67417.06it/s]\n",
      "Iterating over powerset of ancillas: 8it [00:00, 51.87it/s]\n"
     ]
    },
    {
     "name": "stdout",
     "output_type": "stream",
     "text": [
      "Largest Set of ancilla for Circuit_0 that can be uncomputed is ()\n"
     ]
    },
    {
     "name": "stderr",
     "output_type": "stream",
     "text": [
      "Adding Uncomputation Nodes: 100%|██████████| 43/43 [00:00<00:00, 1060912.19it/s]\n",
      "Building uncomp circuit from circuit graph: 100%|██████████| 43/43 [00:00<00:00, 34010.01it/s]\n",
      "Adding Uncomputation Nodes: 100%|██████████| 43/43 [00:00<00:00, 117189.78it/s]\n",
      "Iterating over all cycles in graph:   9%|▉         | 46671/500000 [00:00<00:02, 153629.10it/s]\n"
     ]
    },
    {
     "name": "stdout",
     "output_type": "stream",
     "text": [
      "aq0 216486\n"
     ]
    },
    {
     "name": "stderr",
     "output_type": "stream",
     "text": [
      "Iterating over all cycles in graph:   0%|          | 946/500000 [00:00<00:02, 222510.74it/s]\n"
     ]
    },
    {
     "name": "stdout",
     "output_type": "stream",
     "text": [
      "aq1 1719\n"
     ]
    },
    {
     "name": "stderr",
     "output_type": "stream",
     "text": [
      "Iterating over all cycles in graph:   0%|          | 23/500000 [00:00<00:04, 124798.18it/s]\n"
     ]
    },
    {
     "name": "stdout",
     "output_type": "stream",
     "text": [
      "aq2 46\n"
     ]
    },
    {
     "name": "stderr",
     "output_type": "stream",
     "text": [
      "Building uncomp circuit from circuit graph: 100%|██████████| 43/43 [00:00<00:00, 29230.97it/s]\n"
     ]
    },
    {
     "name": "stdout",
     "output_type": "stream",
     "text": [
      "Comparing the uncomp circuit grapphs by greedy and exhaustive for Circuit_0\n",
      "Both methods return the same circuit graphs\n"
     ]
    },
    {
     "name": "stderr",
     "output_type": "stream",
     "text": [
      "Adding Uncomputation Nodes: 100%|██████████| 43/43 [00:00<00:00, 117648.45it/s]\n",
      "Iterating over all cycles:   9%|▉         | 46671/500000 [00:00<00:03, 120180.25it/s]\n"
     ]
    },
    {
     "name": "stdout",
     "output_type": "stream",
     "text": [
      "aq0 216486\n"
     ]
    },
    {
     "name": "stderr",
     "output_type": "stream",
     "text": [
      "Building uncomp circuit from circuit graph: 100%|██████████| 49/49 [00:00<00:00, 37968.02it/s]\n",
      "Building Random Quantum Circuit with 5q, 3a, 25g: 100%|██████████| 25/25 [00:00<00:00, 13263.04it/s]\n"
     ]
    },
    {
     "name": "stdout",
     "output_type": "stream",
     "text": [
      "Built circuit with 5 input, 3 ancilla and 25 gates.\n",
      "There are 7 gates acting between control qubits, 3 gates acting between control and ancilla, 9 gates acting between ancilla and control and 6 gates acting between just the ancillas.\n"
     ]
    },
    {
     "name": "stderr",
     "output_type": "stream",
     "text": [
      "Adding Nodes for Circuit: 100%|██████████| 35/35 [00:00<00:00, 109552.72it/s]\n",
      "Adding Uncomputation Nodes:  16%|█▋        | 7/43 [00:00<00:00, 37164.72it/s]\n",
      "Adding Uncomputation Nodes: 100%|██████████| 43/43 [00:00<00:00, 1113302.91it/s]\n",
      "Adding Uncomputation Nodes:  16%|█▋        | 7/43 [00:00<00:00, 69409.29it/s]\n",
      "Adding Uncomputation Nodes:  23%|██▎       | 10/43 [00:00<00:00, 86302.55it/s]\n",
      "Adding Uncomputation Nodes:  21%|██        | 9/43 [00:00<00:00, 98304.00it/s]\n",
      "Adding Uncomputation Nodes:  16%|█▋        | 7/43 [00:00<00:00, 52056.96it/s]\n",
      "Adding Uncomputation Nodes:  16%|█▋        | 7/43 [00:00<00:00, 50884.10it/s]\n",
      "Adding Uncomputation Nodes:  21%|██        | 9/43 [00:00<00:00, 82964.25it/s]\n",
      "Adding Uncomputation Nodes:  16%|█▋        | 7/43 [00:00<00:00, 31367.66it/s]\n",
      "Iterating over powerset of ancillas: 8it [00:00, 254.49it/s]\n"
     ]
    },
    {
     "name": "stdout",
     "output_type": "stream",
     "text": [
      "Largest Set of ancilla for Circuit_1 that can be uncomputed is ()\n"
     ]
    },
    {
     "name": "stderr",
     "output_type": "stream",
     "text": [
      "Adding Uncomputation Nodes: 100%|██████████| 43/43 [00:00<00:00, 1079970.49it/s]\n",
      "Building uncomp circuit from circuit graph: 100%|██████████| 43/43 [00:00<00:00, 46567.28it/s]\n",
      "Adding Uncomputation Nodes: 100%|██████████| 43/43 [00:00<00:00, 135198.70it/s]\n",
      "Iterating over all cycles in graph:   1%|          | 4467/500000 [00:00<00:01, 274801.35it/s]\n"
     ]
    },
    {
     "name": "stdout",
     "output_type": "stream",
     "text": [
      "aq1 6997\n"
     ]
    },
    {
     "name": "stderr",
     "output_type": "stream",
     "text": [
      "Iterating over all cycles in graph:   0%|          | 1042/500000 [00:00<00:02, 218032.66it/s]\n"
     ]
    },
    {
     "name": "stdout",
     "output_type": "stream",
     "text": [
      "aq2 2457\n"
     ]
    },
    {
     "name": "stderr",
     "output_type": "stream",
     "text": [
      "Iterating over all cycles in graph:   0%|          | 14/500000 [00:00<00:03, 147909.96it/s]\n"
     ]
    },
    {
     "name": "stdout",
     "output_type": "stream",
     "text": [
      "aq0 41\n"
     ]
    },
    {
     "name": "stderr",
     "output_type": "stream",
     "text": [
      "Building uncomp circuit from circuit graph: 100%|██████████| 43/43 [00:00<00:00, 45601.79it/s]\n"
     ]
    },
    {
     "name": "stdout",
     "output_type": "stream",
     "text": [
      "Comparing the uncomp circuit grapphs by greedy and exhaustive for Circuit_1\n",
      "Both methods return the same circuit graphs\n"
     ]
    },
    {
     "name": "stderr",
     "output_type": "stream",
     "text": [
      "Adding Uncomputation Nodes: 100%|██████████| 43/43 [00:00<00:00, 129751.85it/s]\n",
      "Iterating over all cycles:   1%|          | 4467/500000 [00:00<00:02, 211014.26it/s]\n"
     ]
    },
    {
     "name": "stdout",
     "output_type": "stream",
     "text": [
      "aq1 6997\n"
     ]
    },
    {
     "name": "stderr",
     "output_type": "stream",
     "text": [
      "Iterating over all cycles:   1%|          | 4467/500000 [00:00<00:02, 210150.37it/s]\n"
     ]
    },
    {
     "name": "stdout",
     "output_type": "stream",
     "text": [
      "aq1 6997\n"
     ]
    },
    {
     "name": "stderr",
     "output_type": "stream",
     "text": [
      "Iterating over all cycles:   0%|          | 564/500000 [00:00<00:02, 213423.62it/s]\n"
     ]
    },
    {
     "name": "stdout",
     "output_type": "stream",
     "text": [
      "aq0 1030\n"
     ]
    },
    {
     "name": "stderr",
     "output_type": "stream",
     "text": [
      "Iterating over all cycles:   0%|          | 188/500000 [00:00<00:02, 209826.81it/s]\n"
     ]
    },
    {
     "name": "stdout",
     "output_type": "stream",
     "text": [
      "aq2 350\n"
     ]
    },
    {
     "name": "stderr",
     "output_type": "stream",
     "text": [
      "Building uncomp circuit from circuit graph: 100%|██████████| 47/47 [00:00<00:00, 48304.90it/s]\n",
      "Building Random Quantum Circuit with 5q, 3a, 25g: 100%|██████████| 25/25 [00:00<00:00, 11658.62it/s]\n"
     ]
    },
    {
     "name": "stdout",
     "output_type": "stream",
     "text": [
      "Built circuit with 5 input, 3 ancilla and 25 gates.\n",
      "There are 7 gates acting between control qubits, 10 gates acting between control and ancilla, 5 gates acting between ancilla and control and 3 gates acting between just the ancillas.\n"
     ]
    },
    {
     "name": "stderr",
     "output_type": "stream",
     "text": [
      "Adding Nodes for Circuit: 100%|██████████| 35/35 [00:00<00:00, 101874.14it/s]\n",
      "Adding Uncomputation Nodes:   7%|▋         | 3/43 [00:00<00:00, 26829.24it/s]\n",
      "Adding Uncomputation Nodes: 100%|██████████| 43/43 [00:00<00:00, 1079970.49it/s]\n",
      "Adding Uncomputation Nodes:  67%|██████▋   | 29/43 [00:00<00:00, 194927.59it/s]\n",
      "Adding Uncomputation Nodes:  33%|███▎      | 14/43 [00:00<00:00, 111423.64it/s]\n",
      "Adding Uncomputation Nodes:   7%|▋         | 3/43 [00:00<00:00, 29059.84it/s]\n",
      "Adding Uncomputation Nodes:  67%|██████▋   | 29/43 [00:00<00:00, 139489.47it/s]\n",
      "Adding Uncomputation Nodes:   7%|▋         | 3/43 [00:00<00:00, 23563.51it/s]\n",
      "Adding Uncomputation Nodes:   7%|▋         | 3/43 [00:00<00:00, 24105.20it/s]\n",
      "Adding Uncomputation Nodes:   7%|▋         | 3/43 [00:00<00:00, 29888.15it/s]\n",
      "Iterating over powerset of ancillas: 8it [00:00, 264.49it/s]\n"
     ]
    },
    {
     "name": "stdout",
     "output_type": "stream",
     "text": [
      "Largest Set of ancilla for Circuit_2 that can be uncomputed is ()\n"
     ]
    },
    {
     "name": "stderr",
     "output_type": "stream",
     "text": [
      "Adding Uncomputation Nodes: 100%|██████████| 43/43 [00:00<00:00, 1073542.10it/s]\n",
      "Building uncomp circuit from circuit graph: 100%|██████████| 43/43 [00:00<00:00, 34504.51it/s]\n",
      "Adding Uncomputation Nodes: 100%|██████████| 43/43 [00:00<00:00, 94973.71it/s]\n",
      "Iterating over all cycles in graph:  11%|█         | 53412/500000 [00:00<00:03, 139746.64it/s]\n"
     ]
    },
    {
     "name": "stdout",
     "output_type": "stream",
     "text": [
      "aq2 270656\n"
     ]
    },
    {
     "name": "stderr",
     "output_type": "stream",
     "text": [
      "Iterating over all cycles in graph:   0%|          | 1013/500000 [00:00<00:02, 221143.49it/s]\n"
     ]
    },
    {
     "name": "stdout",
     "output_type": "stream",
     "text": [
      "aq0 3363\n"
     ]
    },
    {
     "name": "stderr",
     "output_type": "stream",
     "text": [
      "Iterating over all cycles in graph:   0%|          | 5/500000 [00:00<00:05, 84222.97it/s]\n"
     ]
    },
    {
     "name": "stdout",
     "output_type": "stream",
     "text": [
      "aq1 13\n"
     ]
    },
    {
     "name": "stderr",
     "output_type": "stream",
     "text": [
      "Building uncomp circuit from circuit graph: 100%|██████████| 43/43 [00:00<00:00, 35081.71it/s]\n"
     ]
    },
    {
     "name": "stdout",
     "output_type": "stream",
     "text": [
      "Comparing the uncomp circuit grapphs by greedy and exhaustive for Circuit_2\n",
      "Both methods return the same circuit graphs\n"
     ]
    },
    {
     "name": "stderr",
     "output_type": "stream",
     "text": [
      "Adding Uncomputation Nodes: 100%|██████████| 43/43 [00:00<00:00, 90494.27it/s]\n",
      "Iterating over all cycles:  11%|█         | 53412/500000 [00:00<00:04, 105458.17it/s]\n"
     ]
    },
    {
     "name": "stdout",
     "output_type": "stream",
     "text": [
      "aq2 270656\n"
     ]
    },
    {
     "name": "stderr",
     "output_type": "stream",
     "text": [
      "Iterating over all cycles:   0%|          | 1063/500000 [00:00<00:02, 171199.37it/s]\n"
     ]
    },
    {
     "name": "stdout",
     "output_type": "stream",
     "text": [
      "aq0 3543\n"
     ]
    },
    {
     "name": "stderr",
     "output_type": "stream",
     "text": [
      "Building uncomp circuit from circuit graph: 100%|██████████| 49/49 [00:00<00:00, 34582.01it/s]\n",
      "Building Random Quantum Circuit with 5q, 3a, 25g: 100%|██████████| 25/25 [00:00<00:00, 11598.01it/s]\n"
     ]
    },
    {
     "name": "stdout",
     "output_type": "stream",
     "text": [
      "Built circuit with 5 input, 3 ancilla and 25 gates.\n",
      "There are 12 gates acting between control qubits, 7 gates acting between control and ancilla, 3 gates acting between ancilla and control and 3 gates acting between just the ancillas.\n"
     ]
    },
    {
     "name": "stderr",
     "output_type": "stream",
     "text": [
      "Adding Nodes for Circuit: 100%|██████████| 35/35 [00:00<00:00, 84271.32it/s]\n",
      "Adding Uncomputation Nodes:  33%|███▎      | 14/43 [00:00<00:00, 53044.50it/s]\n",
      "Adding Uncomputation Nodes: 100%|██████████| 43/43 [00:00<00:00, 587475.80it/s]\n",
      "Adding Uncomputation Nodes:  42%|████▏     | 18/43 [00:00<00:00, 116688.52it/s]\n",
      "Adding Uncomputation Nodes:  33%|███▎      | 14/43 [00:00<00:00, 98194.41it/s]\n",
      "Adding Uncomputation Nodes: 100%|██████████| 43/43 [00:00<00:00, 392930.44it/s]\n",
      "Adding Uncomputation Nodes:  33%|███▎      | 14/43 [00:00<00:00, 65536.00it/s]\n",
      "Adding Uncomputation Nodes:  42%|████▏     | 18/43 [00:00<00:00, 84733.41it/s]\n",
      "Adding Uncomputation Nodes:  33%|███▎      | 14/43 [00:00<00:00, 71003.94it/s]\n",
      "Adding Uncomputation Nodes:  33%|███▎      | 14/43 [00:00<00:00, 52948.83it/s]\n",
      "Iterating over powerset of ancillas: 8it [00:00, 265.11it/s]\n"
     ]
    },
    {
     "name": "stdout",
     "output_type": "stream",
     "text": [
      "Largest Set of ancilla for Circuit_3 that can be uncomputed is ('aq2',)\n"
     ]
    },
    {
     "name": "stderr",
     "output_type": "stream",
     "text": [
      "Adding Uncomputation Nodes: 100%|██████████| 43/43 [00:00<00:00, 419430.40it/s]\n",
      "Building uncomp circuit from circuit graph: 100%|██████████| 44/44 [00:00<00:00, 27764.31it/s]\n",
      "Adding Uncomputation Nodes: 100%|██████████| 43/43 [00:00<00:00, 111193.02it/s]\n",
      "Iterating over all cycles in graph:   1%|          | 3642/500000 [00:00<00:02, 238239.14it/s]\n"
     ]
    },
    {
     "name": "stdout",
     "output_type": "stream",
     "text": [
      "aq1 10827\n"
     ]
    },
    {
     "name": "stderr",
     "output_type": "stream",
     "text": [
      "Iterating over all cycles in graph:   0%|          | 354/500000 [00:00<00:02, 178288.14it/s]\n"
     ]
    },
    {
     "name": "stdout",
     "output_type": "stream",
     "text": [
      "aq0 792\n"
     ]
    },
    {
     "name": "stderr",
     "output_type": "stream",
     "text": [
      "Building uncomp circuit from circuit graph: 100%|██████████| 44/44 [00:00<00:00, 16489.40it/s]\n"
     ]
    },
    {
     "name": "stdout",
     "output_type": "stream",
     "text": [
      "Comparing the uncomp circuit grapphs by greedy and exhaustive for Circuit_3\n",
      "Both methods return the same circuit graphs\n"
     ]
    },
    {
     "name": "stderr",
     "output_type": "stream",
     "text": [
      "Adding Uncomputation Nodes: 100%|██████████| 43/43 [00:00<00:00, 99314.47it/s]\n",
      "Iterating over all cycles:   1%|          | 3642/500000 [00:00<00:02, 201568.34it/s]\n"
     ]
    },
    {
     "name": "stdout",
     "output_type": "stream",
     "text": [
      "aq1 10827\n"
     ]
    },
    {
     "name": "stderr",
     "output_type": "stream",
     "text": [
      "Building uncomp circuit from circuit graph: 100%|██████████| 50/50 [00:00<00:00, 24877.25it/s]\n",
      "Building Random Quantum Circuit with 5q, 3a, 25g: 100%|██████████| 25/25 [00:00<00:00, 12977.43it/s]\n"
     ]
    },
    {
     "name": "stdout",
     "output_type": "stream",
     "text": [
      "Built circuit with 5 input, 3 ancilla and 25 gates.\n",
      "There are 11 gates acting between control qubits, 3 gates acting between control and ancilla, 4 gates acting between ancilla and control and 7 gates acting between just the ancillas.\n"
     ]
    },
    {
     "name": "stderr",
     "output_type": "stream",
     "text": [
      "Adding Nodes for Circuit: 100%|██████████| 35/35 [00:00<00:00, 105158.05it/s]\n",
      "Adding Uncomputation Nodes:  44%|████▍     | 19/43 [00:00<00:00, 74200.91it/s]\n",
      "Adding Uncomputation Nodes: 100%|██████████| 43/43 [00:00<00:00, 691015.60it/s]\n",
      "Adding Uncomputation Nodes:  33%|███▎      | 14/43 [00:00<00:00, 124144.30it/s]\n",
      "Adding Uncomputation Nodes:  30%|███       | 13/43 [00:00<00:00, 88516.16it/s]\n",
      "Adding Uncomputation Nodes:  21%|██        | 9/43 [00:00<00:00, 127961.82it/s]\n",
      "Adding Uncomputation Nodes:  33%|███▎      | 14/43 [00:00<00:00, 70155.62it/s]\n",
      "Adding Uncomputation Nodes:  21%|██        | 9/43 [00:00<00:00, 85211.59it/s]\n",
      "Adding Uncomputation Nodes:  21%|██        | 9/43 [00:00<00:00, 55758.84it/s]\n",
      "Adding Uncomputation Nodes:  44%|████▍     | 19/43 [00:00<00:00, 74547.97it/s]\n",
      "Iterating over powerset of ancillas: 8it [00:00, 283.34it/s]\n"
     ]
    },
    {
     "name": "stdout",
     "output_type": "stream",
     "text": [
      "Largest Set of ancilla for Circuit_4 that can be uncomputed is ()\n"
     ]
    },
    {
     "name": "stderr",
     "output_type": "stream",
     "text": [
      "Adding Uncomputation Nodes: 100%|██████████| 43/43 [00:00<00:00, 1127219.20it/s]\n",
      "Building uncomp circuit from circuit graph: 100%|██████████| 43/43 [00:00<00:00, 41413.33it/s]\n",
      "Adding Uncomputation Nodes: 100%|██████████| 43/43 [00:00<00:00, 133497.46it/s]\n",
      "Iterating over all cycles in graph:  89%|████████▉ | 446562/500000 [00:02<00:00, 150918.00it/s]\n"
     ]
    },
    {
     "name": "stdout",
     "output_type": "stream",
     "text": [
      "aq1 1645405\n"
     ]
    },
    {
     "name": "stderr",
     "output_type": "stream",
     "text": [
      "Iterating over all cycles in graph:   0%|          | 1014/500000 [00:00<00:02, 206297.26it/s]\n"
     ]
    },
    {
     "name": "stdout",
     "output_type": "stream",
     "text": [
      "aq0 2796\n"
     ]
    },
    {
     "name": "stderr",
     "output_type": "stream",
     "text": [
      "Iterating over all cycles in graph:   0%|          | 7/500000 [00:00<00:04, 115137.76it/s]\n"
     ]
    },
    {
     "name": "stdout",
     "output_type": "stream",
     "text": [
      "aq2 13\n"
     ]
    },
    {
     "name": "stderr",
     "output_type": "stream",
     "text": [
      "Building uncomp circuit from circuit graph: 100%|██████████| 43/43 [00:00<00:00, 39353.06it/s]\n"
     ]
    },
    {
     "name": "stdout",
     "output_type": "stream",
     "text": [
      "Comparing the uncomp circuit grapphs by greedy and exhaustive for Circuit_4\n",
      "Both methods return the same circuit graphs\n"
     ]
    },
    {
     "name": "stderr",
     "output_type": "stream",
     "text": [
      "Adding Uncomputation Nodes: 100%|██████████| 43/43 [00:00<00:00, 129009.35it/s]\n",
      "Iterating over all cycles:  89%|████████▉ | 446562/500000 [00:03<00:00, 116327.75it/s]\n"
     ]
    },
    {
     "name": "stdout",
     "output_type": "stream",
     "text": [
      "aq1 1645405\n"
     ]
    },
    {
     "name": "stderr",
     "output_type": "stream",
     "text": [
      "Iterating over all cycles:   0%|          | 1255/500000 [00:00<00:02, 181825.61it/s]\n"
     ]
    },
    {
     "name": "stdout",
     "output_type": "stream",
     "text": [
      "aq0 3534\n"
     ]
    },
    {
     "name": "stderr",
     "output_type": "stream",
     "text": [
      "Building uncomp circuit from circuit graph: 100%|██████████| 48/48 [00:00<00:00, 42935.93it/s]\n",
      "Building Random Quantum Circuit with 5q, 3a, 25g: 100%|██████████| 25/25 [00:00<00:00, 13242.94it/s]\n"
     ]
    },
    {
     "name": "stdout",
     "output_type": "stream",
     "text": [
      "Built circuit with 5 input, 3 ancilla and 25 gates.\n",
      "There are 12 gates acting between control qubits, 2 gates acting between control and ancilla, 6 gates acting between ancilla and control and 5 gates acting between just the ancillas.\n"
     ]
    },
    {
     "name": "stderr",
     "output_type": "stream",
     "text": [
      "Adding Nodes for Circuit: 100%|██████████| 35/35 [00:00<00:00, 104782.76it/s]\n",
      "Adding Uncomputation Nodes:   9%|▉         | 4/43 [00:00<00:00, 30840.47it/s]\n",
      "Adding Uncomputation Nodes: 100%|██████████| 43/43 [00:00<00:00, 867091.69it/s]\n",
      "Adding Uncomputation Nodes:  12%|█▏        | 5/43 [00:00<00:00, 35010.88it/s]\n",
      "Adding Uncomputation Nodes:   9%|▉         | 4/43 [00:00<00:00, 55007.27it/s]\n",
      "Adding Uncomputation Nodes:  91%|█████████ | 39/43 [00:00<00:00, 397033.63it/s]\n",
      "Adding Uncomputation Nodes:   9%|▉         | 4/43 [00:00<00:00, 23530.46it/s]\n",
      "Adding Uncomputation Nodes:  12%|█▏        | 5/43 [00:00<00:00, 42799.02it/s]\n",
      "Adding Uncomputation Nodes:   9%|▉         | 4/43 [00:00<00:00, 48072.25it/s]\n",
      "Adding Uncomputation Nodes:   9%|▉         | 4/43 [00:00<00:00, 35394.97it/s]\n",
      "Iterating over powerset of ancillas: 8it [00:00, 280.75it/s]\n"
     ]
    },
    {
     "name": "stdout",
     "output_type": "stream",
     "text": [
      "Largest Set of ancilla for Circuit_5 that can be uncomputed is ()\n"
     ]
    },
    {
     "name": "stderr",
     "output_type": "stream",
     "text": [
      "Adding Uncomputation Nodes: 100%|██████████| 43/43 [00:00<00:00, 831129.36it/s]\n",
      "Building uncomp circuit from circuit graph: 100%|██████████| 43/43 [00:00<00:00, 45452.39it/s]\n",
      "Adding Uncomputation Nodes: 100%|██████████| 43/43 [00:00<00:00, 164858.38it/s]\n",
      "Iterating over all cycles in graph:   0%|          | 26/500000 [00:00<00:02, 195433.52it/s]\n"
     ]
    },
    {
     "name": "stdout",
     "output_type": "stream",
     "text": [
      "aq1 70\n"
     ]
    },
    {
     "name": "stderr",
     "output_type": "stream",
     "text": [
      "Iterating over all cycles in graph:   0%|          | 183/500000 [00:00<00:01, 300649.29it/s]\n"
     ]
    },
    {
     "name": "stdout",
     "output_type": "stream",
     "text": [
      "aq0 329\n"
     ]
    },
    {
     "name": "stderr",
     "output_type": "stream",
     "text": [
      "Iterating over all cycles in graph:   0%|          | 90/500000 [00:00<00:01, 334948.86it/s]\n"
     ]
    },
    {
     "name": "stdout",
     "output_type": "stream",
     "text": [
      "aq2 90\n"
     ]
    },
    {
     "name": "stderr",
     "output_type": "stream",
     "text": [
      "Building uncomp circuit from circuit graph: 100%|██████████| 43/43 [00:00<00:00, 45213.10it/s]\n"
     ]
    },
    {
     "name": "stdout",
     "output_type": "stream",
     "text": [
      "Comparing the uncomp circuit grapphs by greedy and exhaustive for Circuit_5\n",
      "Both methods return the same circuit graphs\n"
     ]
    },
    {
     "name": "stderr",
     "output_type": "stream",
     "text": [
      "Adding Uncomputation Nodes: 100%|██████████| 43/43 [00:00<00:00, 165767.53it/s]\n",
      "Iterating over all cycles:   0%|          | 26/500000 [00:00<00:03, 159199.86it/s]\n"
     ]
    },
    {
     "name": "stdout",
     "output_type": "stream",
     "text": [
      "aq1 70\n"
     ]
    },
    {
     "name": "stderr",
     "output_type": "stream",
     "text": [
      "Iterating over all cycles:   0%|          | 2/500000 [00:00<00:12, 39383.14it/s]\n"
     ]
    },
    {
     "name": "stdout",
     "output_type": "stream",
     "text": [
      "aq1 2\n"
     ]
    },
    {
     "name": "stderr",
     "output_type": "stream",
     "text": [
      "Iterating over all cycles:   0%|          | 3/500000 [00:00<00:08, 55924.05it/s]\n"
     ]
    },
    {
     "name": "stdout",
     "output_type": "stream",
     "text": [
      "aq0 6\n"
     ]
    },
    {
     "name": "stderr",
     "output_type": "stream",
     "text": [
      "Building uncomp circuit from circuit graph: 100%|██████████| 46/46 [00:00<00:00, 46659.73it/s]\n",
      "Building Random Quantum Circuit with 5q, 3a, 25g: 100%|██████████| 25/25 [00:00<00:00, 11908.87it/s]\n"
     ]
    },
    {
     "name": "stdout",
     "output_type": "stream",
     "text": [
      "Built circuit with 5 input, 3 ancilla and 25 gates.\n",
      "There are 11 gates acting between control qubits, 7 gates acting between control and ancilla, 3 gates acting between ancilla and control and 4 gates acting between just the ancillas.\n"
     ]
    },
    {
     "name": "stderr",
     "output_type": "stream",
     "text": [
      "Adding Nodes for Circuit: 100%|██████████| 35/35 [00:00<00:00, 96010.88it/s]\n",
      "Adding Uncomputation Nodes:  26%|██▌       | 11/43 [00:00<00:00, 48260.82it/s]\n",
      "Adding Uncomputation Nodes: 100%|██████████| 43/43 [00:00<00:00, 1073542.10it/s]\n",
      "Adding Uncomputation Nodes:  21%|██        | 9/43 [00:00<00:00, 83147.00it/s]\n",
      "Adding Uncomputation Nodes:  19%|█▊        | 8/43 [00:00<00:00, 59705.40it/s]\n",
      "Adding Uncomputation Nodes:  42%|████▏     | 18/43 [00:00<00:00, 110215.29it/s]\n",
      "Adding Uncomputation Nodes:  19%|█▊        | 8/43 [00:00<00:00, 51542.91it/s]\n",
      "Adding Uncomputation Nodes:  21%|██        | 9/43 [00:00<00:00, 66342.24it/s]\n",
      "Adding Uncomputation Nodes:  19%|█▊        | 8/43 [00:00<00:00, 56205.08it/s]\n",
      "Adding Uncomputation Nodes:  26%|██▌       | 11/43 [00:00<00:00, 40506.89it/s]\n",
      "Iterating over powerset of ancillas: 8it [00:00, 260.35it/s]\n"
     ]
    },
    {
     "name": "stdout",
     "output_type": "stream",
     "text": [
      "Largest Set of ancilla for Circuit_6 that can be uncomputed is ()\n"
     ]
    },
    {
     "name": "stderr",
     "output_type": "stream",
     "text": [
      "Adding Uncomputation Nodes: 100%|██████████| 43/43 [00:00<00:00, 1099726.05it/s]\n",
      "Building uncomp circuit from circuit graph: 100%|██████████| 43/43 [00:00<00:00, 27314.11it/s]\n",
      "Adding Uncomputation Nodes: 100%|██████████| 43/43 [00:00<00:00, 105842.18it/s]\n",
      "Iterating over all cycles in graph:  41%|████      | 203016/500000 [00:01<00:01, 190384.32it/s]\n"
     ]
    },
    {
     "name": "stdout",
     "output_type": "stream",
     "text": [
      "aq1 715291\n"
     ]
    },
    {
     "name": "stderr",
     "output_type": "stream",
     "text": [
      "Iterating over all cycles in graph:   0%|          | 1571/500000 [00:00<00:01, 264426.81it/s]\n"
     ]
    },
    {
     "name": "stdout",
     "output_type": "stream",
     "text": [
      "aq2 3132\n"
     ]
    },
    {
     "name": "stderr",
     "output_type": "stream",
     "text": [
      "Iterating over all cycles in graph:   0%|          | 5/500000 [00:00<00:05, 85948.85it/s]\n"
     ]
    },
    {
     "name": "stdout",
     "output_type": "stream",
     "text": [
      "aq0 14\n"
     ]
    },
    {
     "name": "stderr",
     "output_type": "stream",
     "text": [
      "Building uncomp circuit from circuit graph: 100%|██████████| 43/43 [00:00<00:00, 24131.00it/s]\n"
     ]
    },
    {
     "name": "stdout",
     "output_type": "stream",
     "text": [
      "Comparing the uncomp circuit grapphs by greedy and exhaustive for Circuit_6\n",
      "Both methods return the same circuit graphs\n"
     ]
    },
    {
     "name": "stderr",
     "output_type": "stream",
     "text": [
      "Adding Uncomputation Nodes: 100%|██████████| 43/43 [00:00<00:00, 108256.35it/s]\n",
      "Iterating over all cycles:  41%|████      | 203016/500000 [00:01<00:02, 146516.02it/s]\n"
     ]
    },
    {
     "name": "stdout",
     "output_type": "stream",
     "text": [
      "aq1 715291\n"
     ]
    },
    {
     "name": "stderr",
     "output_type": "stream",
     "text": [
      "Iterating over all cycles:   1%|          | 3039/500000 [00:00<00:02, 208214.74it/s]\n"
     ]
    },
    {
     "name": "stdout",
     "output_type": "stream",
     "text": [
      "aq2 5935\n"
     ]
    },
    {
     "name": "stderr",
     "output_type": "stream",
     "text": [
      "Iterating over all cycles:   0%|          | 57/500000 [00:00<00:02, 180843.67it/s]\n"
     ]
    },
    {
     "name": "stdout",
     "output_type": "stream",
     "text": [
      "aq0 146\n"
     ]
    },
    {
     "name": "stderr",
     "output_type": "stream",
     "text": [
      "Building uncomp circuit from circuit graph: 100%|██████████| 49/49 [00:00<00:00, 26426.76it/s]\n",
      "Building Random Quantum Circuit with 5q, 3a, 25g: 100%|██████████| 25/25 [00:00<00:00, 14235.35it/s]\n"
     ]
    },
    {
     "name": "stdout",
     "output_type": "stream",
     "text": [
      "Built circuit with 5 input, 3 ancilla and 25 gates.\n",
      "There are 6 gates acting between control qubits, 5 gates acting between control and ancilla, 8 gates acting between ancilla and control and 6 gates acting between just the ancillas.\n"
     ]
    },
    {
     "name": "stderr",
     "output_type": "stream",
     "text": [
      "Adding Nodes for Circuit: 100%|██████████| 35/35 [00:00<00:00, 116972.62it/s]\n",
      "Adding Uncomputation Nodes:  47%|████▋     | 20/43 [00:00<00:00, 81206.27it/s]\n",
      "Adding Uncomputation Nodes: 100%|██████████| 43/43 [00:00<00:00, 996436.86it/s]\n",
      "Adding Uncomputation Nodes:   9%|▉         | 4/43 [00:00<00:00, 58867.42it/s]\n",
      "Adding Uncomputation Nodes:  16%|█▋        | 7/43 [00:00<00:00, 51328.90it/s]\n",
      "Adding Uncomputation Nodes:  19%|█▊        | 8/43 [00:00<00:00, 49490.31it/s]\n",
      "Adding Uncomputation Nodes:   9%|▉         | 4/43 [00:00<00:00, 33893.37it/s]\n",
      "Adding Uncomputation Nodes:  19%|█▊        | 8/43 [00:00<00:00, 37957.50it/s]\n",
      "Adding Uncomputation Nodes:  16%|█▋        | 7/43 [00:00<00:00, 48770.98it/s]\n",
      "Adding Uncomputation Nodes:  47%|████▋     | 20/43 [00:00<00:00, 85773.09it/s]\n",
      "Iterating over powerset of ancillas: 8it [00:00, 279.50it/s]\n"
     ]
    },
    {
     "name": "stdout",
     "output_type": "stream",
     "text": [
      "Largest Set of ancilla for Circuit_7 that can be uncomputed is ()\n"
     ]
    },
    {
     "name": "stderr",
     "output_type": "stream",
     "text": [
      "Adding Uncomputation Nodes: 100%|██████████| 43/43 [00:00<00:00, 990961.93it/s]\n",
      "Building uncomp circuit from circuit graph: 100%|██████████| 43/43 [00:00<00:00, 51048.70it/s]\n",
      "Adding Uncomputation Nodes: 100%|██████████| 43/43 [00:00<00:00, 124899.63it/s]\n",
      "Iterating over all cycles in graph:   1%|          | 2840/500000 [00:00<00:02, 216460.54it/s]\n"
     ]
    },
    {
     "name": "stdout",
     "output_type": "stream",
     "text": [
      "aq0 7724\n"
     ]
    },
    {
     "name": "stderr",
     "output_type": "stream",
     "text": [
      "Iterating over all cycles in graph:   0%|          | 228/500000 [00:00<00:01, 278318.19it/s]\n"
     ]
    },
    {
     "name": "stdout",
     "output_type": "stream",
     "text": [
      "aq1 417\n"
     ]
    },
    {
     "name": "stderr",
     "output_type": "stream",
     "text": [
      "Iterating over all cycles in graph:   0%|          | 10/500000 [00:00<00:03, 134003.32it/s]\n"
     ]
    },
    {
     "name": "stdout",
     "output_type": "stream",
     "text": [
      "aq2 37\n"
     ]
    },
    {
     "name": "stderr",
     "output_type": "stream",
     "text": [
      "Building uncomp circuit from circuit graph: 100%|██████████| 43/43 [00:00<00:00, 52246.54it/s]\n"
     ]
    },
    {
     "name": "stdout",
     "output_type": "stream",
     "text": [
      "Comparing the uncomp circuit grapphs by greedy and exhaustive for Circuit_7\n",
      "Both methods return the same circuit graphs\n"
     ]
    },
    {
     "name": "stderr",
     "output_type": "stream",
     "text": [
      "Adding Uncomputation Nodes: 100%|██████████| 43/43 [00:00<00:00, 125333.62it/s]\n",
      "Iterating over all cycles:   1%|          | 2840/500000 [00:00<00:03, 156862.48it/s]\n"
     ]
    },
    {
     "name": "stdout",
     "output_type": "stream",
     "text": [
      "aq0 7724\n"
     ]
    },
    {
     "name": "stderr",
     "output_type": "stream",
     "text": [
      "Iterating over all cycles:   0%|          | 198/500000 [00:00<00:02, 224573.33it/s]\n"
     ]
    },
    {
     "name": "stdout",
     "output_type": "stream",
     "text": [
      "aq1 366\n"
     ]
    },
    {
     "name": "stderr",
     "output_type": "stream",
     "text": [
      "Building uncomp circuit from circuit graph: 100%|██████████| 49/49 [00:00<00:00, 50821.19it/s]\n",
      "Building Random Quantum Circuit with 5q, 3a, 25g: 100%|██████████| 25/25 [00:00<00:00, 12423.89it/s]\n"
     ]
    },
    {
     "name": "stdout",
     "output_type": "stream",
     "text": [
      "Built circuit with 5 input, 3 ancilla and 25 gates.\n",
      "There are 11 gates acting between control qubits, 7 gates acting between control and ancilla, 5 gates acting between ancilla and control and 2 gates acting between just the ancillas.\n"
     ]
    },
    {
     "name": "stderr",
     "output_type": "stream",
     "text": [
      "Adding Nodes for Circuit: 100%|██████████| 35/35 [00:00<00:00, 99932.36it/s]\n",
      "Adding Uncomputation Nodes:   2%|▏         | 1/43 [00:00<00:00, 13530.01it/s]\n",
      "Adding Uncomputation Nodes: 100%|██████████| 43/43 [00:00<00:00, 1024744.73it/s]\n",
      "Adding Uncomputation Nodes:  33%|███▎      | 14/43 [00:00<00:00, 99189.62it/s]\n",
      "Adding Uncomputation Nodes:   2%|▏         | 1/43 [00:00<00:00, 12228.29it/s]\n",
      "Adding Uncomputation Nodes:  47%|████▋     | 20/43 [00:00<00:00, 160087.94it/s]\n",
      "Adding Uncomputation Nodes:   2%|▏         | 1/43 [00:00<00:00, 13315.25it/s]\n",
      "Adding Uncomputation Nodes:  33%|███▎      | 14/43 [00:00<00:00, 137196.86it/s]\n",
      "Adding Uncomputation Nodes:   2%|▏         | 1/43 [00:00<00:00, 10082.46it/s]\n",
      "Adding Uncomputation Nodes:   2%|▏         | 1/43 [00:00<00:00, 13797.05it/s]\n",
      "Iterating over powerset of ancillas: 8it [00:00, 255.51it/s]\n"
     ]
    },
    {
     "name": "stdout",
     "output_type": "stream",
     "text": [
      "Largest Set of ancilla for Circuit_8 that can be uncomputed is ()\n"
     ]
    },
    {
     "name": "stderr",
     "output_type": "stream",
     "text": [
      "Adding Uncomputation Nodes: 100%|██████████| 43/43 [00:00<00:00, 1099726.05it/s]\n",
      "Building uncomp circuit from circuit graph: 100%|██████████| 43/43 [00:00<00:00, 33560.68it/s]\n",
      "Adding Uncomputation Nodes: 100%|██████████| 43/43 [00:00<00:00, 121615.02it/s]\n",
      "Iterating over all cycles in graph:  54%|█████▍    | 269245/500000 [00:01<00:01, 166549.25it/s]\n"
     ]
    },
    {
     "name": "stdout",
     "output_type": "stream",
     "text": [
      "aq0 670264\n"
     ]
    },
    {
     "name": "stderr",
     "output_type": "stream",
     "text": [
      "Iterating over all cycles in graph:   3%|▎         | 16000/500000 [00:00<00:02, 201053.56it/s]\n"
     ]
    },
    {
     "name": "stdout",
     "output_type": "stream",
     "text": [
      "aq1 43618\n"
     ]
    },
    {
     "name": "stderr",
     "output_type": "stream",
     "text": [
      "Iterating over all cycles in graph:   0%|          | 325/500000 [00:00<00:01, 365651.50it/s]\n"
     ]
    },
    {
     "name": "stdout",
     "output_type": "stream",
     "text": [
      "aq2 358\n"
     ]
    },
    {
     "name": "stderr",
     "output_type": "stream",
     "text": [
      "Building uncomp circuit from circuit graph: 100%|██████████| 43/43 [00:00<00:00, 33818.69it/s]\n"
     ]
    },
    {
     "name": "stdout",
     "output_type": "stream",
     "text": [
      "Comparing the uncomp circuit grapphs by greedy and exhaustive for Circuit_8\n",
      "Both methods return the same circuit graphs\n"
     ]
    },
    {
     "name": "stderr",
     "output_type": "stream",
     "text": [
      "Adding Uncomputation Nodes: 100%|██████████| 43/43 [00:00<00:00, 128641.28it/s]\n",
      "Iterating over all cycles:  54%|█████▍    | 269245/500000 [00:02<00:01, 132374.94it/s]\n"
     ]
    },
    {
     "name": "stdout",
     "output_type": "stream",
     "text": [
      "aq0 670264\n"
     ]
    },
    {
     "name": "stderr",
     "output_type": "stream",
     "text": [
      "Iterating over all cycles:   3%|▎         | 16000/500000 [00:00<00:02, 163591.18it/s]\n"
     ]
    },
    {
     "name": "stdout",
     "output_type": "stream",
     "text": [
      "aq1 43618\n"
     ]
    },
    {
     "name": "stderr",
     "output_type": "stream",
     "text": [
      "Iterating over all cycles:   0%|          | 316/500000 [00:00<00:01, 302395.63it/s]\n"
     ]
    },
    {
     "name": "stdout",
     "output_type": "stream",
     "text": [
      "aq2 340\n"
     ]
    },
    {
     "name": "stderr",
     "output_type": "stream",
     "text": [
      "Building uncomp circuit from circuit graph: 100%|██████████| 44/44 [00:00<00:00, 33572.74it/s]\n",
      "Building Random Quantum Circuit with 5q, 3a, 25g: 100%|██████████| 25/25 [00:00<00:00, 11971.41it/s]\n"
     ]
    },
    {
     "name": "stdout",
     "output_type": "stream",
     "text": [
      "Built circuit with 5 input, 3 ancilla and 25 gates.\n",
      "There are 11 gates acting between control qubits, 6 gates acting between control and ancilla, 2 gates acting between ancilla and control and 6 gates acting between just the ancillas.\n"
     ]
    },
    {
     "name": "stderr",
     "output_type": "stream",
     "text": [
      "Adding Nodes for Circuit: 100%|██████████| 35/35 [00:00<00:00, 90006.52it/s]\n",
      "Adding Uncomputation Nodes:  40%|███▉      | 17/43 [00:00<00:00, 56860.58it/s]\n",
      "Adding Uncomputation Nodes: 100%|██████████| 43/43 [00:00<00:00, 944267.39it/s]\n",
      "Adding Uncomputation Nodes:  21%|██        | 9/43 [00:00<00:00, 92748.74it/s]\n",
      "Adding Uncomputation Nodes:  28%|██▊       | 12/43 [00:00<00:00, 69518.85it/s]\n",
      "Adding Uncomputation Nodes:  42%|████▏     | 18/43 [00:00<00:00, 68447.39it/s]\n",
      "Adding Uncomputation Nodes:  21%|██        | 9/43 [00:00<00:00, 66576.25it/s]\n",
      "Adding Uncomputation Nodes:  21%|██        | 9/43 [00:00<00:00, 60787.01it/s]\n",
      "Adding Uncomputation Nodes:  28%|██▊       | 12/43 [00:00<00:00, 56679.78it/s]\n",
      "Adding Uncomputation Nodes:  40%|███▉      | 17/43 [00:00<00:00, 56366.14it/s]\n",
      "Iterating over powerset of ancillas: 8it [00:00, 269.98it/s]\n"
     ]
    },
    {
     "name": "stdout",
     "output_type": "stream",
     "text": [
      "Largest Set of ancilla for Circuit_9 that can be uncomputed is ()\n"
     ]
    },
    {
     "name": "stderr",
     "output_type": "stream",
     "text": [
      "Adding Uncomputation Nodes: 100%|██████████| 43/43 [00:00<00:00, 675487.16it/s]\n",
      "Building uncomp circuit from circuit graph: 100%|██████████| 43/43 [00:00<00:00, 28764.76it/s]\n",
      "Adding Uncomputation Nodes: 100%|██████████| 43/43 [00:00<00:00, 104493.09it/s]\n",
      "Iterating over all cycles in graph:   3%|▎         | 15971/500000 [00:00<00:02, 181399.07it/s]\n"
     ]
    },
    {
     "name": "stdout",
     "output_type": "stream",
     "text": [
      "aq1 69576\n"
     ]
    },
    {
     "name": "stderr",
     "output_type": "stream",
     "text": [
      "Iterating over all cycles in graph:   0%|          | 213/500000 [00:00<00:01, 260159.22it/s]\n"
     ]
    },
    {
     "name": "stdout",
     "output_type": "stream",
     "text": [
      "aq0 500\n"
     ]
    },
    {
     "name": "stderr",
     "output_type": "stream",
     "text": [
      "Iterating over all cycles in graph:   0%|          | 10/500000 [00:00<00:03, 131072.00it/s]\n"
     ]
    },
    {
     "name": "stdout",
     "output_type": "stream",
     "text": [
      "aq2 35\n"
     ]
    },
    {
     "name": "stderr",
     "output_type": "stream",
     "text": [
      "Building uncomp circuit from circuit graph: 100%|██████████| 43/43 [00:00<00:00, 26866.54it/s]\n"
     ]
    },
    {
     "name": "stdout",
     "output_type": "stream",
     "text": [
      "Comparing the uncomp circuit grapphs by greedy and exhaustive for Circuit_9\n",
      "Both methods return the same circuit graphs\n"
     ]
    },
    {
     "name": "stderr",
     "output_type": "stream",
     "text": [
      "Adding Uncomputation Nodes: 100%|██████████| 43/43 [00:00<00:00, 102242.10it/s]\n",
      "Iterating over all cycles:   3%|▎         | 15971/500000 [00:00<00:03, 130168.34it/s]\n"
     ]
    },
    {
     "name": "stdout",
     "output_type": "stream",
     "text": [
      "aq1 69576\n"
     ]
    },
    {
     "name": "stderr",
     "output_type": "stream",
     "text": [
      "Iterating over all cycles:   0%|          | 272/500000 [00:00<00:02, 200642.05it/s]\n"
     ]
    },
    {
     "name": "stdout",
     "output_type": "stream",
     "text": [
      "aq0 702\n"
     ]
    },
    {
     "name": "stderr",
     "output_type": "stream",
     "text": [
      "Building uncomp circuit from circuit graph: 100%|██████████| 49/49 [00:00<00:00, 31234.18it/s]\n"
     ]
    },
    {
     "name": "stdout",
     "output_type": "stream",
     "text": [
      "\n",
      "                Exhaustive Comp Avg:\t\t0.20212745311000005\n",
      "                Exhaustive UnComp Avg:\t\t0.20212745311000005\n",
      "                Greedy Full Comp Avg:\t\t0.20212745311000005\n",
      "                Greedy Full UnComp Avg:\t\t0.20212745311000005\n",
      "                Greedy Partial Comp Avg:\t0.20212745311000005\n",
      "                Greedy Partial UnComp Avg:\t0.19934016655000003\n",
      "                Regular Comp Avg:\t\t0.0\n",
      "                Regular UnComp Avg:\t\t0.0\n",
      "                \n",
      "****************************************************************************\n"
     ]
    },
    {
     "name": "stderr",
     "output_type": "stream",
     "text": [
      "Building Random Quantum Circuit with 5q, 4a, 25g: 100%|██████████| 25/25 [00:00<00:00, 10585.26it/s]\n"
     ]
    },
    {
     "name": "stdout",
     "output_type": "stream",
     "text": [
      "Built circuit with 5 input, 4 ancilla and 25 gates.\n",
      "There are 12 gates acting between control qubits, 4 gates acting between control and ancilla, 2 gates acting between ancilla and control and 7 gates acting between just the ancillas.\n"
     ]
    },
    {
     "name": "stderr",
     "output_type": "stream",
     "text": [
      "Adding Nodes for Circuit: 100%|██████████| 35/35 [00:00<00:00, 93802.33it/s]\n",
      "Adding Uncomputation Nodes:  14%|█▎        | 6/44 [00:00<00:00, 35444.82it/s]\n",
      "Adding Uncomputation Nodes: 100%|██████████| 44/44 [00:00<00:00, 1002985.74it/s]\n",
      "Adding Uncomputation Nodes:  27%|██▋       | 12/44 [00:00<00:00, 64860.37it/s]\n",
      "Adding Uncomputation Nodes: 100%|██████████| 44/44 [00:00<00:00, 712545.85it/s]\n",
      "Adding Uncomputation Nodes:  64%|██████▎   | 28/44 [00:00<00:00, 144809.51it/s]\n",
      "Adding Uncomputation Nodes:  59%|█████▉    | 26/44 [00:00<00:00, 216372.83it/s]\n",
      "Adding Uncomputation Nodes:  27%|██▋       | 12/44 [00:00<00:00, 109894.43it/s]\n",
      "Adding Uncomputation Nodes:  27%|██▋       | 12/44 [00:00<00:00, 64693.63it/s]\n",
      "Adding Uncomputation Nodes:  27%|██▋       | 12/44 [00:00<00:00, 64776.90it/s]\n",
      "Adding Uncomputation Nodes:  64%|██████▎   | 28/44 [00:00<00:00, 199389.66it/s]\n",
      "Adding Uncomputation Nodes:  59%|█████▉    | 26/44 [00:00<00:00, 208114.32it/s]\n",
      "Adding Uncomputation Nodes:  59%|█████▉    | 26/44 [00:00<00:00, 138742.88it/s]\n",
      "Adding Uncomputation Nodes:  27%|██▋       | 12/44 [00:00<00:00, 61680.94it/s]\n",
      "Adding Uncomputation Nodes:  27%|██▋       | 12/44 [00:00<00:00, 73908.44it/s]\n",
      "Adding Uncomputation Nodes:  14%|█▎        | 6/44 [00:00<00:00, 34807.50it/s]\n",
      "Adding Uncomputation Nodes:  59%|█████▉    | 26/44 [00:00<00:00, 148978.01it/s]\n",
      "Adding Uncomputation Nodes:  14%|█▎        | 6/44 [00:00<00:00, 32939.56it/s]\n",
      "Iterating over powerset of ancillas: 16it [00:00, 273.63it/s]\n"
     ]
    },
    {
     "name": "stdout",
     "output_type": "stream",
     "text": [
      "Largest Set of ancilla for Circuit_0 that can be uncomputed is ('aq1',)\n"
     ]
    },
    {
     "name": "stderr",
     "output_type": "stream",
     "text": [
      "Adding Uncomputation Nodes: 100%|██████████| 44/44 [00:00<00:00, 640796.44it/s]\n",
      "Building uncomp circuit from circuit graph: 100%|██████████| 44/44 [00:00<00:00, 23754.59it/s]\n",
      "Adding Uncomputation Nodes: 100%|██████████| 44/44 [00:00<00:00, 114060.18it/s]\n",
      "Iterating over all cycles in graph:   0%|          | 1348/500000 [00:00<00:02, 248251.23it/s]\n"
     ]
    },
    {
     "name": "stdout",
     "output_type": "stream",
     "text": [
      "aq0 4764\n"
     ]
    },
    {
     "name": "stderr",
     "output_type": "stream",
     "text": [
      "Iterating over all cycles in graph:   0%|          | 76/500000 [00:00<00:02, 242040.32it/s]\n"
     ]
    },
    {
     "name": "stdout",
     "output_type": "stream",
     "text": [
      "aq3 129\n"
     ]
    },
    {
     "name": "stderr",
     "output_type": "stream",
     "text": [
      "Iterating over all cycles in graph:   0%|          | 68/500000 [00:00<00:02, 226539.06it/s]\n"
     ]
    },
    {
     "name": "stdout",
     "output_type": "stream",
     "text": [
      "aq2 173\n"
     ]
    },
    {
     "name": "stderr",
     "output_type": "stream",
     "text": [
      "Building uncomp circuit from circuit graph: 100%|██████████| 44/44 [00:00<00:00, 23812.82it/s]\n"
     ]
    },
    {
     "name": "stdout",
     "output_type": "stream",
     "text": [
      "Comparing the uncomp circuit grapphs by greedy and exhaustive for Circuit_0\n",
      "Both methods return the same circuit graphs\n"
     ]
    },
    {
     "name": "stderr",
     "output_type": "stream",
     "text": [
      "Adding Uncomputation Nodes: 100%|██████████| 44/44 [00:00<00:00, 109265.47it/s]\n",
      "Iterating over all cycles:   0%|          | 1348/500000 [00:00<00:02, 189538.11it/s]\n"
     ]
    },
    {
     "name": "stdout",
     "output_type": "stream",
     "text": [
      "aq0 4764\n"
     ]
    },
    {
     "name": "stderr",
     "output_type": "stream",
     "text": [
      "Iterating over all cycles:   0%|          | 4/500000 [00:00<00:08, 59074.70it/s]\n"
     ]
    },
    {
     "name": "stdout",
     "output_type": "stream",
     "text": [
      "aq0 4\n"
     ]
    },
    {
     "name": "stderr",
     "output_type": "stream",
     "text": [
      "Building uncomp circuit from circuit graph: 100%|██████████| 52/52 [00:00<00:00, 21454.24it/s]\n",
      "Building Random Quantum Circuit with 5q, 4a, 25g: 100%|██████████| 25/25 [00:00<00:00, 11777.78it/s]\n"
     ]
    },
    {
     "name": "stdout",
     "output_type": "stream",
     "text": [
      "Built circuit with 5 input, 4 ancilla and 25 gates.\n",
      "There are 11 gates acting between control qubits, 3 gates acting between control and ancilla, 4 gates acting between ancilla and control and 7 gates acting between just the ancillas.\n"
     ]
    },
    {
     "name": "stderr",
     "output_type": "stream",
     "text": [
      "Adding Nodes for Circuit: 100%|██████████| 35/35 [00:00<00:00, 91578.69it/s]\n",
      "Adding Uncomputation Nodes:  18%|█▊        | 8/44 [00:00<00:00, 53515.84it/s]\n",
      "Adding Uncomputation Nodes: 100%|██████████| 44/44 [00:00<00:00, 1025274.31it/s]\n",
      "Adding Uncomputation Nodes:  32%|███▏      | 14/44 [00:00<00:00, 75865.96it/s]\n",
      "Adding Uncomputation Nodes:  25%|██▌       | 11/44 [00:00<00:00, 101178.39it/s]\n",
      "Adding Uncomputation Nodes:   2%|▏         | 1/44 [00:00<00:00, 8719.97it/s]\n",
      "Adding Uncomputation Nodes:  27%|██▋       | 12/44 [00:00<00:00, 112851.23it/s]\n",
      "Adding Uncomputation Nodes:  25%|██▌       | 11/44 [00:00<00:00, 95128.54it/s]\n",
      "Adding Uncomputation Nodes:   2%|▏         | 1/44 [00:00<00:00, 12905.55it/s]\n",
      "Adding Uncomputation Nodes:  27%|██▋       | 12/44 [00:00<00:00, 128070.35it/s]\n",
      "Adding Uncomputation Nodes:  18%|█▊        | 8/44 [00:00<00:00, 56017.42it/s]\n",
      "Adding Uncomputation Nodes:  25%|██▌       | 11/44 [00:00<00:00, 62943.17it/s]\n",
      "Adding Uncomputation Nodes:   2%|▏         | 1/44 [00:00<00:00, 14169.95it/s]\n",
      "Adding Uncomputation Nodes:  18%|█▊        | 8/44 [00:00<00:00, 39568.91it/s]\n",
      "Adding Uncomputation Nodes:  25%|██▌       | 11/44 [00:00<00:00, 77281.98it/s]\n",
      "Adding Uncomputation Nodes:   2%|▏         | 1/44 [00:00<00:00, 13486.51it/s]\n",
      "Adding Uncomputation Nodes:  18%|█▊        | 8/44 [00:00<00:00, 55645.82it/s]\n",
      "Adding Uncomputation Nodes:  18%|█▊        | 8/44 [00:00<00:00, 42908.48it/s]\n",
      "Iterating over powerset of ancillas: 16it [00:00, 257.87it/s]\n"
     ]
    },
    {
     "name": "stdout",
     "output_type": "stream",
     "text": [
      "Largest Set of ancilla for Circuit_1 that can be uncomputed is ()\n"
     ]
    },
    {
     "name": "stderr",
     "output_type": "stream",
     "text": [
      "Adding Uncomputation Nodes: 100%|██████████| 44/44 [00:00<00:00, 951285.44it/s]\n",
      "Building uncomp circuit from circuit graph: 100%|██████████| 44/44 [00:00<00:00, 24619.71it/s]\n",
      "Adding Uncomputation Nodes: 100%|██████████| 44/44 [00:00<00:00, 111712.70it/s]\n",
      "Iterating over all cycles in graph:   1%|          | 5243/500000 [00:00<00:02, 238788.35it/s]\n"
     ]
    },
    {
     "name": "stdout",
     "output_type": "stream",
     "text": [
      "aq3 10488\n"
     ]
    },
    {
     "name": "stderr",
     "output_type": "stream",
     "text": [
      "Iterating over all cycles in graph:   0%|          | 1968/500000 [00:00<00:02, 231150.67it/s]\n"
     ]
    },
    {
     "name": "stdout",
     "output_type": "stream",
     "text": [
      "aq0 2759\n"
     ]
    },
    {
     "name": "stderr",
     "output_type": "stream",
     "text": [
      "Iterating over all cycles in graph:   0%|          | 821/500000 [00:00<00:01, 252420.73it/s]\n"
     ]
    },
    {
     "name": "stdout",
     "output_type": "stream",
     "text": [
      "aq1 2137\n"
     ]
    },
    {
     "name": "stderr",
     "output_type": "stream",
     "text": [
      "Iterating over all cycles in graph:   0%|          | 4/500000 [00:00<00:08, 57065.36it/s]\n"
     ]
    },
    {
     "name": "stdout",
     "output_type": "stream",
     "text": [
      "aq2 7\n"
     ]
    },
    {
     "name": "stderr",
     "output_type": "stream",
     "text": [
      "Building uncomp circuit from circuit graph: 100%|██████████| 44/44 [00:00<00:00, 26162.37it/s]\n"
     ]
    },
    {
     "name": "stdout",
     "output_type": "stream",
     "text": [
      "Comparing the uncomp circuit grapphs by greedy and exhaustive for Circuit_1\n",
      "Both methods return the same circuit graphs\n"
     ]
    },
    {
     "name": "stderr",
     "output_type": "stream",
     "text": [
      "Adding Uncomputation Nodes: 100%|██████████| 44/44 [00:00<00:00, 119217.94it/s]\n",
      "Iterating over all cycles:   1%|          | 5243/500000 [00:00<00:02, 174680.76it/s]\n"
     ]
    },
    {
     "name": "stdout",
     "output_type": "stream",
     "text": [
      "aq3 10488\n"
     ]
    },
    {
     "name": "stderr",
     "output_type": "stream",
     "text": [
      "Iterating over all cycles:   0%|          | 6/500000 [00:00<00:05, 98304.00it/s]\n"
     ]
    },
    {
     "name": "stdout",
     "output_type": "stream",
     "text": [
      "aq2 12\n"
     ]
    },
    {
     "name": "stderr",
     "output_type": "stream",
     "text": [
      "Building uncomp circuit from circuit graph: 100%|██████████| 51/51 [00:00<00:00, 26480.50it/s]\n",
      "Building Random Quantum Circuit with 5q, 4a, 25g: 100%|██████████| 25/25 [00:00<00:00, 12998.34it/s]\n"
     ]
    },
    {
     "name": "stdout",
     "output_type": "stream",
     "text": [
      "Built circuit with 5 input, 4 ancilla and 25 gates.\n",
      "There are 11 gates acting between control qubits, 7 gates acting between control and ancilla, 5 gates acting between ancilla and control and 2 gates acting between just the ancillas.\n"
     ]
    },
    {
     "name": "stderr",
     "output_type": "stream",
     "text": [
      "Adding Nodes for Circuit: 100%|██████████| 35/35 [00:00<00:00, 105082.78it/s]\n",
      "Adding Uncomputation Nodes:  27%|██▋       | 12/44 [00:00<00:00, 61082.10it/s]\n",
      "Adding Uncomputation Nodes: 100%|██████████| 44/44 [00:00<00:00, 1092008.14it/s]\n",
      "Adding Uncomputation Nodes: 100%|██████████| 44/44 [00:00<00:00, 442564.45it/s]\n",
      "Adding Uncomputation Nodes:  41%|████      | 18/44 [00:00<00:00, 87889.96it/s]\n",
      "Adding Uncomputation Nodes:  27%|██▋       | 12/44 [00:00<00:00, 58525.17it/s]\n",
      "Adding Uncomputation Nodes: 100%|██████████| 44/44 [00:00<00:00, 173123.24it/s]\n",
      "Adding Uncomputation Nodes:  41%|████      | 18/44 [00:00<00:00, 101748.61it/s]\n",
      "Adding Uncomputation Nodes:  27%|██▋       | 12/44 [00:00<00:00, 95687.54it/s]\n",
      "Adding Uncomputation Nodes: 100%|██████████| 44/44 [00:00<00:00, 200379.34it/s]\n",
      "Adding Uncomputation Nodes:  27%|██▋       | 12/44 [00:00<00:00, 65536.00it/s]\n",
      "Adding Uncomputation Nodes:  41%|████      | 18/44 [00:00<00:00, 62914.56it/s]\n",
      "Adding Uncomputation Nodes:  27%|██▋       | 12/44 [00:00<00:00, 99273.47it/s]\n",
      "Adding Uncomputation Nodes:  27%|██▋       | 12/44 [00:00<00:00, 74235.47it/s]\n",
      "Adding Uncomputation Nodes:  41%|████      | 18/44 [00:00<00:00, 70230.21it/s]\n",
      "Adding Uncomputation Nodes:  27%|██▋       | 12/44 [00:00<00:00, 80273.76it/s]\n",
      "Adding Uncomputation Nodes:  27%|██▋       | 12/44 [00:00<00:00, 70197.56it/s]\n",
      "Adding Uncomputation Nodes:  27%|██▋       | 12/44 [00:00<00:00, 64610.59it/s]\n",
      "Iterating over powerset of ancillas: 16it [00:00, 261.77it/s]\n"
     ]
    },
    {
     "name": "stdout",
     "output_type": "stream",
     "text": [
      "Largest Set of ancilla for Circuit_2 that can be uncomputed is ('aq0', 'aq3')\n"
     ]
    },
    {
     "name": "stderr",
     "output_type": "stream",
     "text": [
      "Adding Uncomputation Nodes: 100%|██████████| 44/44 [00:00<00:00, 57653.66it/s]\n",
      "Building uncomp circuit from circuit graph: 100%|██████████| 47/47 [00:00<00:00, 38270.68it/s]\n",
      "Adding Uncomputation Nodes: 100%|██████████| 44/44 [00:00<00:00, 141200.75it/s]\n",
      "Iterating over all cycles in graph:   0%|          | 502/500000 [00:00<00:02, 221239.95it/s]\n"
     ]
    },
    {
     "name": "stdout",
     "output_type": "stream",
     "text": [
      "aq1 1923\n"
     ]
    },
    {
     "name": "stderr",
     "output_type": "stream",
     "text": [
      "Iterating over all cycles in graph:   0%|          | 6/500000 [00:00<00:06, 79137.81it/s]\n"
     ]
    },
    {
     "name": "stdout",
     "output_type": "stream",
     "text": [
      "aq2 6\n"
     ]
    },
    {
     "name": "stderr",
     "output_type": "stream",
     "text": [
      "Building uncomp circuit from circuit graph: 100%|██████████| 47/47 [00:00<00:00, 41370.89it/s]\n"
     ]
    },
    {
     "name": "stdout",
     "output_type": "stream",
     "text": [
      "Comparing the uncomp circuit grapphs by greedy and exhaustive for Circuit_2\n",
      "Both methods return the same circuit graphs\n"
     ]
    },
    {
     "name": "stderr",
     "output_type": "stream",
     "text": [
      "Adding Uncomputation Nodes: 100%|██████████| 44/44 [00:00<00:00, 97029.11it/s]\n",
      "Iterating over all cycles:   0%|          | 502/500000 [00:00<00:02, 186959.74it/s]\n"
     ]
    },
    {
     "name": "stdout",
     "output_type": "stream",
     "text": [
      "aq1 1923\n"
     ]
    },
    {
     "name": "stderr",
     "output_type": "stream",
     "text": [
      "Iterating over all cycles:   0%|          | 6/500000 [00:00<00:05, 90851.35it/s]\n"
     ]
    },
    {
     "name": "stdout",
     "output_type": "stream",
     "text": [
      "aq2 6\n"
     ]
    },
    {
     "name": "stderr",
     "output_type": "stream",
     "text": [
      "Building uncomp circuit from circuit graph: 100%|██████████| 48/48 [00:00<00:00, 40459.52it/s]\n",
      "Building Random Quantum Circuit with 5q, 4a, 25g: 100%|██████████| 25/25 [00:00<00:00, 11887.27it/s]\n"
     ]
    },
    {
     "name": "stdout",
     "output_type": "stream",
     "text": [
      "Built circuit with 5 input, 4 ancilla and 25 gates.\n",
      "There are 11 gates acting between control qubits, 5 gates acting between control and ancilla, 6 gates acting between ancilla and control and 3 gates acting between just the ancillas.\n"
     ]
    },
    {
     "name": "stderr",
     "output_type": "stream",
     "text": [
      "Adding Nodes for Circuit: 100%|██████████| 35/35 [00:00<00:00, 72926.30it/s]\n",
      "Adding Uncomputation Nodes:  23%|██▎       | 10/44 [00:00<00:00, 50717.10it/s]\n",
      "Adding Uncomputation Nodes: 100%|██████████| 44/44 [00:00<00:00, 971312.51it/s]\n",
      "Adding Uncomputation Nodes:  23%|██▎       | 10/44 [00:00<00:00, 61680.94it/s]\n",
      "Adding Uncomputation Nodes:  27%|██▋       | 12/44 [00:00<00:00, 69042.04it/s]\n",
      "Adding Uncomputation Nodes: 100%|██████████| 44/44 [00:00<00:00, 291087.34it/s]\n",
      "Adding Uncomputation Nodes:  48%|████▊     | 21/44 [00:00<00:00, 151340.87it/s]\n",
      "Adding Uncomputation Nodes:  23%|██▎       | 10/44 [00:00<00:00, 94679.55it/s]\n",
      "Adding Uncomputation Nodes:  23%|██▎       | 10/44 [00:00<00:00, 81760.31it/s]\n",
      "Adding Uncomputation Nodes:  23%|██▎       | 10/44 [00:00<00:00, 51463.85it/s]\n",
      "Adding Uncomputation Nodes:  27%|██▋       | 12/44 [00:00<00:00, 94786.53it/s]\n",
      "Adding Uncomputation Nodes:  27%|██▋       | 12/44 [00:00<00:00, 79013.58it/s]\n",
      "Adding Uncomputation Nodes:  48%|████▊     | 21/44 [00:00<00:00, 133253.23it/s]\n",
      "Adding Uncomputation Nodes:  23%|██▎       | 10/44 [00:00<00:00, 67759.35it/s]\n",
      "Adding Uncomputation Nodes:  23%|██▎       | 10/44 [00:00<00:00, 60436.66it/s]\n",
      "Adding Uncomputation Nodes:  23%|██▎       | 10/44 [00:00<00:00, 55260.92it/s]\n",
      "Adding Uncomputation Nodes:  27%|██▋       | 12/44 [00:00<00:00, 69327.34it/s]\n",
      "Adding Uncomputation Nodes:  23%|██▎       | 10/44 [00:00<00:00, 45889.54it/s]\n",
      "Iterating over powerset of ancillas: 16it [00:00, 256.68it/s]\n"
     ]
    },
    {
     "name": "stdout",
     "output_type": "stream",
     "text": [
      "Largest Set of ancilla for Circuit_3 that can be uncomputed is ('aq2',)\n"
     ]
    },
    {
     "name": "stderr",
     "output_type": "stream",
     "text": [
      "Adding Uncomputation Nodes: 100%|██████████| 44/44 [00:00<00:00, 473203.53it/s]\n",
      "Building uncomp circuit from circuit graph: 100%|██████████| 45/45 [00:00<00:00, 28074.32it/s]\n",
      "Adding Uncomputation Nodes: 100%|██████████| 44/44 [00:00<00:00, 149553.79it/s]\n",
      "Iterating over all cycles in graph:   2%|▏         | 9089/500000 [00:00<00:02, 210659.68it/s]\n"
     ]
    },
    {
     "name": "stdout",
     "output_type": "stream",
     "text": [
      "aq1 22072\n"
     ]
    },
    {
     "name": "stderr",
     "output_type": "stream",
     "text": [
      "Iterating over all cycles in graph:   0%|          | 78/500000 [00:00<00:01, 256794.12it/s]\n"
     ]
    },
    {
     "name": "stdout",
     "output_type": "stream",
     "text": [
      "aq3 114\n"
     ]
    },
    {
     "name": "stderr",
     "output_type": "stream",
     "text": [
      "Iterating over all cycles in graph:   0%|          | 28/500000 [00:00<00:02, 227157.66it/s]\n"
     ]
    },
    {
     "name": "stdout",
     "output_type": "stream",
     "text": [
      "aq0 28\n"
     ]
    },
    {
     "name": "stderr",
     "output_type": "stream",
     "text": [
      "Building uncomp circuit from circuit graph: 100%|██████████| 45/45 [00:00<00:00, 19769.95it/s]\n"
     ]
    },
    {
     "name": "stdout",
     "output_type": "stream",
     "text": [
      "Comparing the uncomp circuit grapphs by greedy and exhaustive for Circuit_3\n",
      "Both methods return the same circuit graphs\n"
     ]
    },
    {
     "name": "stderr",
     "output_type": "stream",
     "text": [
      "Adding Uncomputation Nodes: 100%|██████████| 44/44 [00:00<00:00, 129690.36it/s]\n",
      "Iterating over all cycles:   2%|▏         | 9089/500000 [00:00<00:02, 168118.42it/s]\n"
     ]
    },
    {
     "name": "stdout",
     "output_type": "stream",
     "text": [
      "aq1 22072\n"
     ]
    },
    {
     "name": "stderr",
     "output_type": "stream",
     "text": [
      "Iterating over all cycles:   0%|          | 76/500000 [00:00<00:02, 205656.20it/s]\n"
     ]
    },
    {
     "name": "stdout",
     "output_type": "stream",
     "text": [
      "aq3 111\n"
     ]
    },
    {
     "name": "stderr",
     "output_type": "stream",
     "text": [
      "Iterating over all cycles:   0%|          | 29/500000 [00:00<00:02, 219161.83it/s]\n"
     ]
    },
    {
     "name": "stdout",
     "output_type": "stream",
     "text": [
      "aq0 29\n"
     ]
    },
    {
     "name": "stderr",
     "output_type": "stream",
     "text": [
      "Building uncomp circuit from circuit graph: 100%|██████████| 46/46 [00:00<00:00, 27274.24it/s]\n",
      "Building Random Quantum Circuit with 5q, 4a, 25g: 100%|██████████| 25/25 [00:00<00:00, 11479.92it/s]\n"
     ]
    },
    {
     "name": "stdout",
     "output_type": "stream",
     "text": [
      "Built circuit with 5 input, 4 ancilla and 25 gates.\n",
      "There are 7 gates acting between control qubits, 6 gates acting between control and ancilla, 6 gates acting between ancilla and control and 6 gates acting between just the ancillas.\n"
     ]
    },
    {
     "name": "stderr",
     "output_type": "stream",
     "text": [
      "Adding Nodes for Circuit: 100%|██████████| 35/35 [00:00<00:00, 95449.05it/s]\n",
      "Adding Uncomputation Nodes:  27%|██▋       | 12/44 [00:00<00:00, 71595.52it/s]\n",
      "Adding Uncomputation Nodes: 100%|██████████| 44/44 [00:00<00:00, 1036794.25it/s]\n",
      "Adding Uncomputation Nodes:  34%|███▍      | 15/44 [00:00<00:00, 141699.46it/s]\n",
      "Adding Uncomputation Nodes:  55%|█████▍    | 24/44 [00:00<00:00, 191375.09it/s]\n",
      "Adding Uncomputation Nodes:  27%|██▋       | 12/44 [00:00<00:00, 76608.29it/s]\n",
      "Adding Uncomputation Nodes:  11%|█▏        | 5/44 [00:00<00:00, 54189.97it/s]\n",
      "Adding Uncomputation Nodes:  34%|███▍      | 15/44 [00:00<00:00, 156115.53it/s]\n",
      "Adding Uncomputation Nodes:  27%|██▋       | 12/44 [00:00<00:00, 59634.65it/s]\n",
      "Adding Uncomputation Nodes:  11%|█▏        | 5/44 [00:00<00:00, 51275.11it/s]\n",
      "Adding Uncomputation Nodes:  27%|██▋       | 12/44 [00:00<00:00, 100663.30it/s]\n",
      "Adding Uncomputation Nodes:  11%|█▏        | 5/44 [00:00<00:00, 66576.25it/s]\n",
      "Adding Uncomputation Nodes:  27%|██▋       | 12/44 [00:00<00:00, 60640.54it/s]\n",
      "Adding Uncomputation Nodes:  27%|██▋       | 12/44 [00:00<00:00, 103563.06it/s]\n",
      "Adding Uncomputation Nodes:  11%|█▏        | 5/44 [00:00<00:00, 66576.25it/s]\n",
      "Adding Uncomputation Nodes:  27%|██▋       | 12/44 [00:00<00:00, 76144.70it/s]\n",
      "Adding Uncomputation Nodes:  27%|██▋       | 12/44 [00:00<00:00, 81049.35it/s]\n",
      "Adding Uncomputation Nodes:  27%|██▋       | 12/44 [00:00<00:00, 77672.30it/s]\n",
      "Iterating over powerset of ancillas: 16it [00:00, 263.14it/s]\n"
     ]
    },
    {
     "name": "stdout",
     "output_type": "stream",
     "text": [
      "Largest Set of ancilla for Circuit_4 that can be uncomputed is ()\n"
     ]
    },
    {
     "name": "stderr",
     "output_type": "stream",
     "text": [
      "Adding Uncomputation Nodes: 100%|██████████| 44/44 [00:00<00:00, 1014007.56it/s]\n",
      "Building uncomp circuit from circuit graph: 100%|██████████| 44/44 [00:00<00:00, 26477.67it/s]\n",
      "Adding Uncomputation Nodes: 100%|██████████| 44/44 [00:00<00:00, 97080.16it/s]\n",
      "Iterating over all cycles in graph: 500001it [00:03, 143059.60it/s]                            \n"
     ]
    },
    {
     "name": "stdout",
     "output_type": "stream",
     "text": [
      "aq0 1243308\n"
     ]
    },
    {
     "name": "stderr",
     "output_type": "stream",
     "text": [
      "Iterating over all cycles in graph: 500001it [00:03, 134379.39it/s]                            \n"
     ]
    },
    {
     "name": "stdout",
     "output_type": "stream",
     "text": [
      "aq3 1527019\n"
     ]
    },
    {
     "name": "stderr",
     "output_type": "stream",
     "text": [
      "Iterating over all cycles in graph:  20%|█▉        | 97745/500000 [00:00<00:01, 202998.66it/s]\n"
     ]
    },
    {
     "name": "stdout",
     "output_type": "stream",
     "text": [
      "aq2 224481\n"
     ]
    },
    {
     "name": "stderr",
     "output_type": "stream",
     "text": [
      "Iterating over all cycles in graph:   1%|          | 4528/500000 [00:00<00:01, 256088.89it/s]\n"
     ]
    },
    {
     "name": "stdout",
     "output_type": "stream",
     "text": [
      "aq1 4528\n"
     ]
    },
    {
     "name": "stderr",
     "output_type": "stream",
     "text": [
      "Building uncomp circuit from circuit graph: 100%|██████████| 44/44 [00:00<00:00, 25887.13it/s]\n"
     ]
    },
    {
     "name": "stdout",
     "output_type": "stream",
     "text": [
      "Comparing the uncomp circuit grapphs by greedy and exhaustive for Circuit_4\n",
      "Both methods return the same circuit graphs\n"
     ]
    },
    {
     "name": "stderr",
     "output_type": "stream",
     "text": [
      "Adding Uncomputation Nodes: 100%|██████████| 44/44 [00:00<00:00, 96825.49it/s]\n",
      "Iterating over all cycles: 500001it [00:04, 110419.85it/s]                            \n"
     ]
    },
    {
     "name": "stdout",
     "output_type": "stream",
     "text": [
      "aq0 1243308\n"
     ]
    },
    {
     "name": "stderr",
     "output_type": "stream",
     "text": [
      "Iterating over all cycles: 500001it [00:03, 134039.60it/s]                            \n"
     ]
    },
    {
     "name": "stdout",
     "output_type": "stream",
     "text": [
      "aq3 1216064\n"
     ]
    },
    {
     "name": "stderr",
     "output_type": "stream",
     "text": [
      "Iterating over all cycles:  21%|██▏       | 106913/500000 [00:00<00:02, 162449.69it/s]\n"
     ]
    },
    {
     "name": "stdout",
     "output_type": "stream",
     "text": [
      "aq2 247585\n"
     ]
    },
    {
     "name": "stderr",
     "output_type": "stream",
     "text": [
      "Iterating over all cycles:   1%|          | 4831/500000 [00:00<00:02, 186957.89it/s]\n"
     ]
    },
    {
     "name": "stdout",
     "output_type": "stream",
     "text": [
      "aq1 4831\n"
     ]
    },
    {
     "name": "stderr",
     "output_type": "stream",
     "text": [
      "Building uncomp circuit from circuit graph: 100%|██████████| 47/47 [00:00<00:00, 28470.87it/s]\n",
      "Building Random Quantum Circuit with 5q, 4a, 25g: 100%|██████████| 25/25 [00:00<00:00, 7284.81it/s]\n"
     ]
    },
    {
     "name": "stdout",
     "output_type": "stream",
     "text": [
      "Built circuit with 5 input, 4 ancilla and 25 gates.\n",
      "There are 9 gates acting between control qubits, 5 gates acting between control and ancilla, 5 gates acting between ancilla and control and 6 gates acting between just the ancillas.\n"
     ]
    },
    {
     "name": "stderr",
     "output_type": "stream",
     "text": [
      "Adding Nodes for Circuit: 100%|██████████| 35/35 [00:00<00:00, 55669.56it/s]\n",
      "Adding Uncomputation Nodes:  20%|██        | 9/44 [00:00<00:00, 35411.57it/s]\n",
      "Adding Uncomputation Nodes: 100%|██████████| 44/44 [00:00<00:00, 549254.10it/s]\n",
      "Adding Uncomputation Nodes:  23%|██▎       | 10/44 [00:00<00:00, 61141.46it/s]\n",
      "Adding Uncomputation Nodes:  57%|█████▋    | 25/44 [00:00<00:00, 155344.59it/s]\n",
      "Adding Uncomputation Nodes:  20%|██        | 9/44 [00:00<00:00, 90092.45it/s]\n",
      "Adding Uncomputation Nodes:  32%|███▏      | 14/44 [00:00<00:00, 94710.09it/s]\n",
      "Adding Uncomputation Nodes:  23%|██▎       | 10/44 [00:00<00:00, 68985.26it/s]\n",
      "Adding Uncomputation Nodes:  20%|██        | 9/44 [00:00<00:00, 110700.11it/s]\n",
      "Adding Uncomputation Nodes:  23%|██▎       | 10/44 [00:00<00:00, 73199.02it/s]\n",
      "Adding Uncomputation Nodes:  20%|██        | 9/44 [00:00<00:00, 59074.70it/s]\n",
      "Adding Uncomputation Nodes:  32%|███▏      | 14/44 [00:00<00:00, 91039.16it/s]\n",
      "Adding Uncomputation Nodes:  20%|██        | 9/44 [00:00<00:00, 79807.05it/s]\n",
      "Adding Uncomputation Nodes:  20%|██        | 9/44 [00:00<00:00, 64638.25it/s]\n",
      "Adding Uncomputation Nodes:  23%|██▎       | 10/44 [00:00<00:00, 53294.84it/s]\n",
      "Adding Uncomputation Nodes:  20%|██        | 9/44 [00:00<00:00, 83886.08it/s]\n",
      "Adding Uncomputation Nodes:  20%|██        | 9/44 [00:00<00:00, 56425.61it/s]\n",
      "Adding Uncomputation Nodes:  20%|██        | 9/44 [00:00<00:00, 60013.89it/s]\n",
      "Iterating over powerset of ancillas: 16it [00:00, 260.35it/s]\n"
     ]
    },
    {
     "name": "stdout",
     "output_type": "stream",
     "text": [
      "Largest Set of ancilla for Circuit_5 that can be uncomputed is ()\n"
     ]
    },
    {
     "name": "stderr",
     "output_type": "stream",
     "text": [
      "Adding Uncomputation Nodes: 100%|██████████| 44/44 [00:00<00:00, 1125301.07it/s]\n",
      "Building uncomp circuit from circuit graph: 100%|██████████| 44/44 [00:00<00:00, 29689.41it/s]\n",
      "Adding Uncomputation Nodes: 100%|██████████| 44/44 [00:00<00:00, 111645.12it/s]\n",
      "Iterating over all cycles in graph:   1%|          | 2708/500000 [00:00<00:02, 194077.22it/s]\n"
     ]
    },
    {
     "name": "stdout",
     "output_type": "stream",
     "text": [
      "aq3 4806\n"
     ]
    },
    {
     "name": "stderr",
     "output_type": "stream",
     "text": [
      "Iterating over all cycles in graph:   6%|▌         | 28771/500000 [00:00<00:02, 201451.56it/s]\n"
     ]
    },
    {
     "name": "stdout",
     "output_type": "stream",
     "text": [
      "aq0 80268\n"
     ]
    },
    {
     "name": "stderr",
     "output_type": "stream",
     "text": [
      "Iterating over all cycles in graph:   0%|          | 493/500000 [00:00<00:02, 233306.09it/s]\n"
     ]
    },
    {
     "name": "stdout",
     "output_type": "stream",
     "text": [
      "aq2 962\n"
     ]
    },
    {
     "name": "stderr",
     "output_type": "stream",
     "text": [
      "Iterating over all cycles in graph:   0%|          | 7/500000 [00:00<00:04, 111212.61it/s]\n"
     ]
    },
    {
     "name": "stdout",
     "output_type": "stream",
     "text": [
      "aq1 19\n"
     ]
    },
    {
     "name": "stderr",
     "output_type": "stream",
     "text": [
      "Building uncomp circuit from circuit graph: 100%|██████████| 44/44 [00:00<00:00, 29998.27it/s]\n"
     ]
    },
    {
     "name": "stdout",
     "output_type": "stream",
     "text": [
      "Comparing the uncomp circuit grapphs by greedy and exhaustive for Circuit_5\n",
      "Both methods return the same circuit graphs\n"
     ]
    },
    {
     "name": "stderr",
     "output_type": "stream",
     "text": [
      "Adding Uncomputation Nodes: 100%|██████████| 44/44 [00:00<00:00, 115199.36it/s]\n",
      "Iterating over all cycles:   1%|          | 2708/500000 [00:00<00:03, 154963.10it/s]\n"
     ]
    },
    {
     "name": "stdout",
     "output_type": "stream",
     "text": [
      "aq3 4806\n"
     ]
    },
    {
     "name": "stderr",
     "output_type": "stream",
     "text": [
      "Iterating over all cycles:   0%|          | 291/500000 [00:00<00:02, 185211.30it/s]\n"
     ]
    },
    {
     "name": "stdout",
     "output_type": "stream",
     "text": [
      "aq0 530\n"
     ]
    },
    {
     "name": "stderr",
     "output_type": "stream",
     "text": [
      "Iterating over all cycles:   0%|          | 17/500000 [00:00<00:03, 158100.15it/s]\n"
     ]
    },
    {
     "name": "stdout",
     "output_type": "stream",
     "text": [
      "aq1 19\n"
     ]
    },
    {
     "name": "stderr",
     "output_type": "stream",
     "text": [
      "Iterating over all cycles:   0%|          | 10/500000 [00:00<00:03, 152520.15it/s]\n"
     ]
    },
    {
     "name": "stdout",
     "output_type": "stream",
     "text": [
      "aq2 10\n"
     ]
    },
    {
     "name": "stderr",
     "output_type": "stream",
     "text": [
      "Iterating over all cycles:   0%|          | 10/500000 [00:00<00:03, 151967.54it/s]\n"
     ]
    },
    {
     "name": "stdout",
     "output_type": "stream",
     "text": [
      "aq2 10\n"
     ]
    },
    {
     "name": "stderr",
     "output_type": "stream",
     "text": [
      "Building uncomp circuit from circuit graph: 100%|██████████| 48/48 [00:00<00:00, 31418.01it/s]\n",
      "Building Random Quantum Circuit with 5q, 4a, 25g: 100%|██████████| 25/25 [00:00<00:00, 12266.92it/s]\n"
     ]
    },
    {
     "name": "stdout",
     "output_type": "stream",
     "text": [
      "Built circuit with 5 input, 4 ancilla and 25 gates.\n",
      "There are 7 gates acting between control qubits, 5 gates acting between control and ancilla, 5 gates acting between ancilla and control and 8 gates acting between just the ancillas.\n"
     ]
    },
    {
     "name": "stderr",
     "output_type": "stream",
     "text": [
      "Adding Nodes for Circuit: 100%|██████████| 35/35 [00:00<00:00, 105082.78it/s]\n",
      "Adding Uncomputation Nodes:  25%|██▌       | 11/44 [00:00<00:00, 41866.92it/s]\n",
      "Adding Uncomputation Nodes: 100%|██████████| 44/44 [00:00<00:00, 1132204.76it/s]\n",
      "Adding Uncomputation Nodes:  89%|████████▊ | 39/44 [00:00<00:00, 187374.41it/s]\n",
      "Adding Uncomputation Nodes:  30%|██▉       | 13/44 [00:00<00:00, 107123.68it/s]\n",
      "Adding Uncomputation Nodes: 100%|██████████| 44/44 [00:00<00:00, 765765.05it/s]\n",
      "Adding Uncomputation Nodes:   7%|▋         | 3/44 [00:00<00:00, 23344.92it/s]\n",
      "Adding Uncomputation Nodes:  30%|██▉       | 13/44 [00:00<00:00, 64223.74it/s]\n",
      "Adding Uncomputation Nodes:  89%|████████▊ | 39/44 [00:00<00:00, 121258.60it/s]\n",
      "Adding Uncomputation Nodes:  25%|██▌       | 11/44 [00:00<00:00, 36501.06it/s]\n",
      "Adding Uncomputation Nodes:  30%|██▉       | 13/44 [00:00<00:00, 174204.32it/s]\n",
      "Adding Uncomputation Nodes:   7%|▋         | 3/44 [00:00<00:00, 29399.33it/s]\n",
      "Adding Uncomputation Nodes:   7%|▋         | 3/44 [00:00<00:00, 19152.07it/s]\n",
      "Adding Uncomputation Nodes:  30%|██▉       | 13/44 [00:00<00:00, 57760.54it/s]\n",
      "Adding Uncomputation Nodes:  25%|██▌       | 11/44 [00:00<00:00, 42405.65it/s]\n",
      "Adding Uncomputation Nodes:  25%|██▌       | 11/44 [00:00<00:00, 35354.29it/s]\n",
      "Adding Uncomputation Nodes:   7%|▋         | 3/44 [00:00<00:00, 29746.84it/s]\n",
      "Adding Uncomputation Nodes:  25%|██▌       | 11/44 [00:00<00:00, 37147.62it/s]\n",
      "Iterating over powerset of ancillas: 16it [00:00, 267.62it/s]\n"
     ]
    },
    {
     "name": "stdout",
     "output_type": "stream",
     "text": [
      "Largest Set of ancilla for Circuit_6 that can be uncomputed is ('aq2',)\n"
     ]
    },
    {
     "name": "stderr",
     "output_type": "stream",
     "text": [
      "Adding Uncomputation Nodes: 100%|██████████| 44/44 [00:00<00:00, 981645.62it/s]\n",
      "Building uncomp circuit from circuit graph: 100%|██████████| 44/44 [00:00<00:00, 32669.39it/s]\n",
      "Adding Uncomputation Nodes: 100%|██████████| 44/44 [00:00<00:00, 102470.50it/s]\n",
      "Iterating over all cycles in graph:   0%|          | 193/500000 [00:00<00:02, 248236.94it/s]\n"
     ]
    },
    {
     "name": "stdout",
     "output_type": "stream",
     "text": [
      "aq3 500\n"
     ]
    },
    {
     "name": "stderr",
     "output_type": "stream",
     "text": [
      "Iterating over all cycles in graph:   0%|          | 38/500000 [00:00<00:02, 203815.28it/s]\n"
     ]
    },
    {
     "name": "stdout",
     "output_type": "stream",
     "text": [
      "aq0 112\n"
     ]
    },
    {
     "name": "stderr",
     "output_type": "stream",
     "text": [
      "Iterating over all cycles in graph:   0%|          | 29/500000 [00:00<00:02, 229499.65it/s]\n"
     ]
    },
    {
     "name": "stdout",
     "output_type": "stream",
     "text": [
      "aq1 30\n"
     ]
    },
    {
     "name": "stderr",
     "output_type": "stream",
     "text": [
      "Building uncomp circuit from circuit graph: 100%|██████████| 44/44 [00:00<00:00, 33584.96it/s]\n"
     ]
    },
    {
     "name": "stdout",
     "output_type": "stream",
     "text": [
      "Comparing the uncomp circuit grapphs by greedy and exhaustive for Circuit_6\n",
      "Both methods return the same circuit graphs\n"
     ]
    },
    {
     "name": "stderr",
     "output_type": "stream",
     "text": [
      "Adding Uncomputation Nodes: 100%|██████████| 44/44 [00:00<00:00, 101456.50it/s]\n",
      "Iterating over all cycles:   0%|          | 193/500000 [00:00<00:02, 178737.18it/s]\n"
     ]
    },
    {
     "name": "stdout",
     "output_type": "stream",
     "text": [
      "aq3 500\n"
     ]
    },
    {
     "name": "stderr",
     "output_type": "stream",
     "text": [
      "Iterating over all cycles:   0%|          | 13/500000 [00:00<00:03, 128902.96it/s]\n"
     ]
    },
    {
     "name": "stdout",
     "output_type": "stream",
     "text": [
      "aq0 41\n"
     ]
    },
    {
     "name": "stderr",
     "output_type": "stream",
     "text": [
      "Iterating over all cycles:   0%|          | 1/500000 [00:00<00:19, 25420.02it/s]\n"
     ]
    },
    {
     "name": "stdout",
     "output_type": "stream",
     "text": [
      "aq1 2\n"
     ]
    },
    {
     "name": "stderr",
     "output_type": "stream",
     "text": [
      "Building uncomp circuit from circuit graph: 100%|██████████| 48/48 [00:00<00:00, 35117.14it/s]\n",
      "Building Random Quantum Circuit with 5q, 4a, 25g: 100%|██████████| 25/25 [00:00<00:00, 11864.40it/s]\n"
     ]
    },
    {
     "name": "stdout",
     "output_type": "stream",
     "text": [
      "Built circuit with 5 input, 4 ancilla and 25 gates.\n",
      "There are 12 gates acting between control qubits, 6 gates acting between control and ancilla, 3 gates acting between ancilla and control and 4 gates acting between just the ancillas.\n"
     ]
    },
    {
     "name": "stderr",
     "output_type": "stream",
     "text": [
      "Adding Nodes for Circuit: 100%|██████████| 35/35 [00:00<00:00, 94588.04it/s]\n",
      "Adding Uncomputation Nodes:  23%|██▎       | 10/44 [00:00<00:00, 52692.26it/s]\n",
      "Adding Uncomputation Nodes: 100%|██████████| 44/44 [00:00<00:00, 997564.19it/s]\n",
      "Adding Uncomputation Nodes:  11%|█▏        | 5/44 [00:00<00:00, 43965.45it/s]\n",
      "Adding Uncomputation Nodes:  36%|███▋      | 16/44 [00:00<00:00, 87495.26it/s]\n",
      "Adding Uncomputation Nodes: 100%|██████████| 44/44 [00:00<00:00, 408295.08it/s]\n",
      "Adding Uncomputation Nodes:  20%|██        | 9/44 [00:00<00:00, 62809.88it/s]\n",
      "Adding Uncomputation Nodes:  11%|█▏        | 5/44 [00:00<00:00, 46916.15it/s]\n",
      "Adding Uncomputation Nodes: 100%|██████████| 44/44 [00:00<00:00, 327215.21it/s]\n",
      "Adding Uncomputation Nodes:  11%|█▏        | 5/44 [00:00<00:00, 70138.86it/s]\n",
      "Adding Uncomputation Nodes:  36%|███▋      | 16/44 [00:00<00:00, 92691.80it/s]\n",
      "Adding Uncomputation Nodes:  20%|██        | 9/44 [00:00<00:00, 83514.90it/s]\n",
      "Adding Uncomputation Nodes:  20%|██        | 9/44 [00:00<00:00, 86381.55it/s]\n",
      "Adding Uncomputation Nodes:  34%|███▍      | 15/44 [00:00<00:00, 105384.52it/s]\n",
      "Adding Uncomputation Nodes:  11%|█▏        | 5/44 [00:00<00:00, 33130.36it/s]\n",
      "Adding Uncomputation Nodes:  20%|██        | 9/44 [00:00<00:00, 55431.33it/s]\n",
      "Adding Uncomputation Nodes:  20%|██        | 9/44 [00:00<00:00, 59634.65it/s]\n",
      "Adding Uncomputation Nodes:  23%|██▎       | 10/44 [00:00<00:00, 37052.16it/s]\n",
      "Iterating over powerset of ancillas: 16it [00:00, 251.90it/s]\n"
     ]
    },
    {
     "name": "stdout",
     "output_type": "stream",
     "text": [
      "Largest Set of ancilla for Circuit_7 that can be uncomputed is ('aq0', 'aq2')\n"
     ]
    },
    {
     "name": "stderr",
     "output_type": "stream",
     "text": [
      "Adding Uncomputation Nodes: 100%|██████████| 44/44 [00:00<00:00, 367628.24it/s]\n",
      "Building uncomp circuit from circuit graph: 100%|██████████| 46/46 [00:00<00:00, 26200.16it/s]\n",
      "Adding Uncomputation Nodes: 100%|██████████| 44/44 [00:00<00:00, 126490.32it/s]\n",
      "Iterating over all cycles in graph:   1%|          | 3588/500000 [00:00<00:02, 183463.73it/s]\n"
     ]
    },
    {
     "name": "stdout",
     "output_type": "stream",
     "text": [
      "aq3 8938\n"
     ]
    },
    {
     "name": "stderr",
     "output_type": "stream",
     "text": [
      "Iterating over all cycles in graph:   0%|          | 122/500000 [00:00<00:02, 217932.32it/s]\n"
     ]
    },
    {
     "name": "stdout",
     "output_type": "stream",
     "text": [
      "aq1 266\n"
     ]
    },
    {
     "name": "stderr",
     "output_type": "stream",
     "text": [
      "Building uncomp circuit from circuit graph: 100%|██████████| 46/46 [00:00<00:00, 20095.61it/s]\n"
     ]
    },
    {
     "name": "stdout",
     "output_type": "stream",
     "text": [
      "Comparing the uncomp circuit grapphs by greedy and exhaustive for Circuit_7\n",
      "Both methods return the same circuit graphs\n"
     ]
    },
    {
     "name": "stderr",
     "output_type": "stream",
     "text": [
      "Adding Uncomputation Nodes: 100%|██████████| 44/44 [00:00<00:00, 108686.32it/s]\n",
      "Iterating over all cycles:   1%|          | 3588/500000 [00:00<00:03, 132907.91it/s]\n"
     ]
    },
    {
     "name": "stdout",
     "output_type": "stream",
     "text": [
      "aq3 8938\n"
     ]
    },
    {
     "name": "stderr",
     "output_type": "stream",
     "text": [
      "Iterating over all cycles:   0%|          | 122/500000 [00:00<00:02, 178356.60it/s]\n"
     ]
    },
    {
     "name": "stdout",
     "output_type": "stream",
     "text": [
      "aq1 266\n"
     ]
    },
    {
     "name": "stderr",
     "output_type": "stream",
     "text": [
      "Building uncomp circuit from circuit graph: 100%|██████████| 47/47 [00:00<00:00, 27288.52it/s]\n",
      "Building Random Quantum Circuit with 5q, 4a, 25g: 100%|██████████| 25/25 [00:00<00:00, 12168.69it/s]\n"
     ]
    },
    {
     "name": "stdout",
     "output_type": "stream",
     "text": [
      "Built circuit with 5 input, 4 ancilla and 25 gates.\n",
      "There are 14 gates acting between control qubits, 4 gates acting between control and ancilla, 4 gates acting between ancilla and control and 3 gates acting between just the ancillas.\n"
     ]
    },
    {
     "name": "stderr",
     "output_type": "stream",
     "text": [
      "Adding Nodes for Circuit: 100%|██████████| 35/35 [00:00<00:00, 95201.45it/s]\n",
      "Adding Uncomputation Nodes:  27%|██▋       | 12/44 [00:00<00:00, 65196.44it/s]\n",
      "Adding Uncomputation Nodes: 100%|██████████| 44/44 [00:00<00:00, 666243.23it/s]\n",
      "Adding Uncomputation Nodes:  50%|█████     | 22/44 [00:00<00:00, 45771.17it/s]\n",
      "Adding Uncomputation Nodes:  91%|█████████ | 40/44 [00:00<00:00, 295373.52it/s]\n",
      "Adding Uncomputation Nodes:  27%|██▋       | 12/44 [00:00<00:00, 66576.25it/s]\n",
      "Adding Uncomputation Nodes:  25%|██▌       | 11/44 [00:00<00:00, 58773.69it/s]\n",
      "Adding Uncomputation Nodes:  50%|█████     | 22/44 [00:00<00:00, 169934.97it/s]\n",
      "Adding Uncomputation Nodes:  27%|██▋       | 12/44 [00:00<00:00, 81049.35it/s]\n",
      "Adding Uncomputation Nodes:  25%|██▌       | 11/44 [00:00<00:00, 59532.06it/s]\n",
      "Adding Uncomputation Nodes:  27%|██▋       | 12/44 [00:00<00:00, 54530.50it/s]\n",
      "Adding Uncomputation Nodes:  25%|██▌       | 11/44 [00:00<00:00, 67749.40it/s]\n",
      "Adding Uncomputation Nodes:  27%|██▋       | 12/44 [00:00<00:00, 71493.82it/s]\n",
      "Adding Uncomputation Nodes:  27%|██▋       | 12/44 [00:00<00:00, 59353.36it/s]\n",
      "Adding Uncomputation Nodes:  25%|██▌       | 11/44 [00:00<00:00, 58327.87it/s]\n",
      "Adding Uncomputation Nodes:  27%|██▋       | 12/44 [00:00<00:00, 59847.38it/s]\n",
      "Adding Uncomputation Nodes:  27%|██▋       | 12/44 [00:00<00:00, 50483.10it/s]\n",
      "Adding Uncomputation Nodes:  27%|██▋       | 12/44 [00:00<00:00, 47527.52it/s]\n",
      "Iterating over powerset of ancillas: 16it [00:00, 262.06it/s]\n"
     ]
    },
    {
     "name": "stdout",
     "output_type": "stream",
     "text": [
      "Largest Set of ancilla for Circuit_8 that can be uncomputed is ()\n"
     ]
    },
    {
     "name": "stderr",
     "output_type": "stream",
     "text": [
      "Adding Uncomputation Nodes: 100%|██████████| 44/44 [00:00<00:00, 850457.95it/s]\n",
      "Building uncomp circuit from circuit graph: 100%|██████████| 44/44 [00:00<00:00, 29509.01it/s]\n",
      "Adding Uncomputation Nodes: 100%|██████████| 44/44 [00:00<00:00, 162455.44it/s]\n",
      "Iterating over all cycles in graph:   1%|▏         | 6736/500000 [00:00<00:01, 247263.58it/s]\n"
     ]
    },
    {
     "name": "stdout",
     "output_type": "stream",
     "text": [
      "aq0 13448\n"
     ]
    },
    {
     "name": "stderr",
     "output_type": "stream",
     "text": [
      "Iterating over all cycles in graph:   0%|          | 12/500000 [00:00<00:03, 147168.56it/s]\n"
     ]
    },
    {
     "name": "stdout",
     "output_type": "stream",
     "text": [
      "aq2 22\n"
     ]
    },
    {
     "name": "stderr",
     "output_type": "stream",
     "text": [
      "Iterating over all cycles in graph:   0%|          | 2/500000 [00:00<00:13, 38130.04it/s]\n"
     ]
    },
    {
     "name": "stdout",
     "output_type": "stream",
     "text": [
      "aq3 4\n"
     ]
    },
    {
     "name": "stderr",
     "output_type": "stream",
     "text": [
      "Iterating over all cycles in graph:   0%|          | 3/500000 [00:00<00:11, 44620.26it/s]\n"
     ]
    },
    {
     "name": "stdout",
     "output_type": "stream",
     "text": [
      "aq1 3\n"
     ]
    },
    {
     "name": "stderr",
     "output_type": "stream",
     "text": [
      "Building uncomp circuit from circuit graph: 100%|██████████| 44/44 [00:00<00:00, 31714.96it/s]\n"
     ]
    },
    {
     "name": "stdout",
     "output_type": "stream",
     "text": [
      "Comparing the uncomp circuit grapphs by greedy and exhaustive for Circuit_8\n",
      "Both methods return the same circuit graphs\n"
     ]
    },
    {
     "name": "stderr",
     "output_type": "stream",
     "text": [
      "Adding Uncomputation Nodes: 100%|██████████| 44/44 [00:00<00:00, 113989.73it/s]\n",
      "Iterating over all cycles:   1%|▏         | 6736/500000 [00:00<00:02, 188174.07it/s]\n"
     ]
    },
    {
     "name": "stdout",
     "output_type": "stream",
     "text": [
      "aq0 13448\n"
     ]
    },
    {
     "name": "stderr",
     "output_type": "stream",
     "text": [
      "Iterating over all cycles:   0%|          | 12/500000 [00:00<00:04, 115439.56it/s]\n"
     ]
    },
    {
     "name": "stdout",
     "output_type": "stream",
     "text": [
      "aq2 22\n"
     ]
    },
    {
     "name": "stderr",
     "output_type": "stream",
     "text": [
      "Building uncomp circuit from circuit graph: 100%|██████████| 48/48 [00:00<00:00, 30030.82it/s]\n",
      "Building Random Quantum Circuit with 5q, 4a, 25g: 100%|██████████| 25/25 [00:00<00:00, 11797.66it/s]\n"
     ]
    },
    {
     "name": "stdout",
     "output_type": "stream",
     "text": [
      "Built circuit with 5 input, 4 ancilla and 25 gates.\n",
      "There are 13 gates acting between control qubits, 3 gates acting between control and ancilla, 5 gates acting between ancilla and control and 4 gates acting between just the ancillas.\n"
     ]
    },
    {
     "name": "stderr",
     "output_type": "stream",
     "text": [
      "Adding Nodes for Circuit: 100%|██████████| 35/35 [00:00<00:00, 97090.37it/s]\n",
      "Adding Uncomputation Nodes:  41%|████      | 18/44 [00:00<00:00, 103279.72it/s]\n",
      "Adding Uncomputation Nodes: 100%|██████████| 44/44 [00:00<00:00, 1125301.07it/s]\n",
      "Adding Uncomputation Nodes:  73%|███████▎  | 32/44 [00:00<00:00, 296941.88it/s]\n",
      "Adding Uncomputation Nodes: 100%|██████████| 44/44 [00:00<00:00, 396880.38it/s]\n",
      "Adding Uncomputation Nodes:   9%|▉         | 4/44 [00:00<00:00, 29485.44it/s]\n",
      "Adding Uncomputation Nodes:  41%|████      | 18/44 [00:00<00:00, 43996.20it/s]\n",
      "Adding Uncomputation Nodes:  73%|███████▎  | 32/44 [00:00<00:00, 170543.49it/s]\n",
      "Adding Uncomputation Nodes:  73%|███████▎  | 32/44 [00:00<00:00, 144010.44it/s]\n",
      "Adding Uncomputation Nodes:  41%|████      | 18/44 [00:00<00:00, 110376.42it/s]\n",
      "Adding Uncomputation Nodes:   9%|▉         | 4/44 [00:00<00:00, 39290.90it/s]\n",
      "Adding Uncomputation Nodes:  41%|████      | 18/44 [00:00<00:00, 178481.02it/s]\n",
      "Adding Uncomputation Nodes:   9%|▉         | 4/44 [00:00<00:00, 26973.02it/s]\n",
      "Adding Uncomputation Nodes:  73%|███████▎  | 32/44 [00:00<00:00, 130182.08it/s]\n",
      "Adding Uncomputation Nodes:  41%|████      | 18/44 [00:00<00:00, 96420.78it/s]\n",
      "Adding Uncomputation Nodes:  41%|████      | 18/44 [00:00<00:00, 67893.41it/s]\n",
      "Adding Uncomputation Nodes:   9%|▉         | 4/44 [00:00<00:00, 40136.88it/s]\n",
      "Adding Uncomputation Nodes:  41%|████      | 18/44 [00:00<00:00, 76647.18it/s]\n",
      "Iterating over powerset of ancillas: 16it [00:00, 265.07it/s]"
     ]
    },
    {
     "name": "stdout",
     "output_type": "stream",
     "text": [
      "Largest Set of ancilla for Circuit_9 that can be uncomputed is ('aq1',)\n"
     ]
    },
    {
     "name": "stderr",
     "output_type": "stream",
     "text": [
      "\n",
      "Adding Uncomputation Nodes: 100%|██████████| 44/44 [00:00<00:00, 388525.00it/s]\n",
      "Building uncomp circuit from circuit graph: 100%|██████████| 45/45 [00:00<00:00, 26494.06it/s]\n",
      "Adding Uncomputation Nodes: 100%|██████████| 44/44 [00:00<00:00, 164336.04it/s]\n",
      "Iterating over all cycles in graph: 500001it [00:02, 168754.20it/s]                            \n"
     ]
    },
    {
     "name": "stdout",
     "output_type": "stream",
     "text": [
      "aq0 904039\n"
     ]
    },
    {
     "name": "stderr",
     "output_type": "stream",
     "text": [
      "Iterating over all cycles in graph:   0%|          | 694/500000 [00:00<00:01, 322424.34it/s]\n"
     ]
    },
    {
     "name": "stdout",
     "output_type": "stream",
     "text": [
      "aq3 690\n"
     ]
    },
    {
     "name": "stderr",
     "output_type": "stream",
     "text": [
      "Iterating over all cycles in graph:   0%|          | 4/500000 [00:00<00:05, 83886.08it/s]\n"
     ]
    },
    {
     "name": "stdout",
     "output_type": "stream",
     "text": [
      "aq2 8\n"
     ]
    },
    {
     "name": "stderr",
     "output_type": "stream",
     "text": [
      "Building uncomp circuit from circuit graph: 100%|██████████| 45/45 [00:00<00:00, 27525.69it/s]\n"
     ]
    },
    {
     "name": "stdout",
     "output_type": "stream",
     "text": [
      "Comparing the uncomp circuit grapphs by greedy and exhaustive for Circuit_9\n",
      "Both methods return the same circuit graphs\n"
     ]
    },
    {
     "name": "stderr",
     "output_type": "stream",
     "text": [
      "Adding Uncomputation Nodes: 100%|██████████| 44/44 [00:00<00:00, 127100.12it/s]\n",
      "Iterating over all cycles: 500001it [00:03, 138600.17it/s]                            \n"
     ]
    },
    {
     "name": "stdout",
     "output_type": "stream",
     "text": [
      "aq0 904039\n"
     ]
    },
    {
     "name": "stderr",
     "output_type": "stream",
     "text": [
      "Iterating over all cycles:   0%|          | 686/500000 [00:00<00:01, 310689.19it/s]\n"
     ]
    },
    {
     "name": "stdout",
     "output_type": "stream",
     "text": [
      "aq3 686\n"
     ]
    },
    {
     "name": "stderr",
     "output_type": "stream",
     "text": [
      "Building uncomp circuit from circuit graph: 100%|██████████| 49/49 [00:00<00:00, 29364.32it/s]\n"
     ]
    },
    {
     "name": "stdout",
     "output_type": "stream",
     "text": [
      "\n",
      "                Exhaustive Comp Avg:\t\t0.1958795031\n",
      "                Exhaustive UnComp Avg:\t\t0.19151590281\n",
      "                Greedy Full Comp Avg:\t\t0.1958795031\n",
      "                Greedy Full UnComp Avg:\t\t0.19151590281\n",
      "                Greedy Partial Comp Avg:\t0.1958795031\n",
      "                Greedy Partial UnComp Avg:\t0.18786990388000002\n",
      "                Regular Comp Avg:\t\t0.0\n",
      "                Regular UnComp Avg:\t\t0.0\n",
      "                \n",
      "****************************************************************************\n"
     ]
    },
    {
     "name": "stderr",
     "output_type": "stream",
     "text": [
      "Building Random Quantum Circuit with 5q, 5a, 25g: 100%|██████████| 25/25 [00:00<00:00, 11824.27it/s]\n"
     ]
    },
    {
     "name": "stdout",
     "output_type": "stream",
     "text": [
      "Built circuit with 5 input, 5 ancilla and 25 gates.\n",
      "There are 9 gates acting between control qubits, 6 gates acting between control and ancilla, 5 gates acting between ancilla and control and 5 gates acting between just the ancillas.\n"
     ]
    },
    {
     "name": "stderr",
     "output_type": "stream",
     "text": [
      "Adding Nodes for Circuit: 100%|██████████| 35/35 [00:00<00:00, 101172.05it/s]\n",
      "Adding Uncomputation Nodes:   7%|▋         | 3/45 [00:00<00:00, 26715.31it/s]\n",
      "Adding Uncomputation Nodes: 100%|██████████| 45/45 [00:00<00:00, 1103764.21it/s]\n",
      "Adding Uncomputation Nodes:  49%|████▉     | 22/45 [00:00<00:00, 168384.47it/s]\n",
      "Adding Uncomputation Nodes: 100%|██████████| 45/45 [00:00<00:00, 608850.58it/s]\n",
      "Adding Uncomputation Nodes:  27%|██▋       | 12/45 [00:00<00:00, 92182.51it/s]\n",
      "Adding Uncomputation Nodes:   7%|▋         | 3/45 [00:00<00:00, 33916.20it/s]\n",
      "Adding Uncomputation Nodes:  31%|███       | 14/45 [00:00<00:00, 71610.07it/s]\n",
      "Adding Uncomputation Nodes:  49%|████▉     | 22/45 [00:00<00:00, 203248.21it/s]\n",
      "Adding Uncomputation Nodes:  27%|██▋       | 12/45 [00:00<00:00, 145467.19it/s]\n",
      "Adding Uncomputation Nodes:   7%|▋         | 3/45 [00:00<00:00, 34100.03it/s]\n",
      "Adding Uncomputation Nodes:  31%|███       | 14/45 [00:00<00:00, 86608.05it/s]\n",
      "Adding Uncomputation Nodes:  27%|██▋       | 12/45 [00:00<00:00, 116778.77it/s]\n",
      "Adding Uncomputation Nodes:   7%|▋         | 3/45 [00:00<00:00, 35544.95it/s]\n",
      "Adding Uncomputation Nodes:  31%|███       | 14/45 [00:00<00:00, 87904.57it/s]\n",
      "Adding Uncomputation Nodes:   7%|▋         | 3/45 [00:00<00:00, 41120.63it/s]\n",
      "Adding Uncomputation Nodes:  27%|██▋       | 12/45 [00:00<00:00, 76375.79it/s]\n",
      "Adding Uncomputation Nodes:   7%|▋         | 3/45 [00:00<00:00, 22836.50it/s]\n",
      "Adding Uncomputation Nodes:  27%|██▋       | 12/45 [00:00<00:00, 147168.56it/s]\n",
      "Adding Uncomputation Nodes:   7%|▋         | 3/45 [00:00<00:00, 41120.63it/s]\n",
      "Adding Uncomputation Nodes:  31%|███       | 14/45 [00:00<00:00, 85225.34it/s]\n",
      "Adding Uncomputation Nodes:   7%|▋         | 3/45 [00:00<00:00, 38716.65it/s]\n",
      "Adding Uncomputation Nodes:  27%|██▋       | 12/45 [00:00<00:00, 68947.46it/s]\n",
      "Adding Uncomputation Nodes:   7%|▋         | 3/45 [00:00<00:00, 26434.69it/s]\n",
      "Adding Uncomputation Nodes:   7%|▋         | 3/45 [00:00<00:00, 39693.73it/s]\n",
      "Adding Uncomputation Nodes:  27%|██▋       | 12/45 [00:00<00:00, 72523.99it/s]\n",
      "Adding Uncomputation Nodes:   7%|▋         | 3/45 [00:00<00:00, 16278.02it/s]\n",
      "Adding Uncomputation Nodes:   7%|▋         | 3/45 [00:00<00:00, 27473.61it/s]\n",
      "Adding Uncomputation Nodes:   7%|▋         | 3/45 [00:00<00:00, 41665.27it/s]\n",
      "Adding Uncomputation Nodes:  27%|██▋       | 12/45 [00:00<00:00, 72005.22it/s]\n",
      "Adding Uncomputation Nodes:   7%|▋         | 3/45 [00:00<00:00, 26658.71it/s]\n",
      "Adding Uncomputation Nodes:   7%|▋         | 3/45 [00:00<00:00, 22036.62it/s]\n",
      "Adding Uncomputation Nodes:   7%|▋         | 3/45 [00:00<00:00, 25165.82it/s]\n",
      "Adding Uncomputation Nodes:   7%|▋         | 3/45 [00:00<00:00, 27900.03it/s]\n",
      "Iterating over powerset of ancillas: 32it [00:00, 276.11it/s]\n"
     ]
    },
    {
     "name": "stdout",
     "output_type": "stream",
     "text": [
      "Largest Set of ancilla for Circuit_0 that can be uncomputed is ('aq1',)\n"
     ]
    },
    {
     "name": "stderr",
     "output_type": "stream",
     "text": [
      "Adding Uncomputation Nodes: 100%|██████████| 45/45 [00:00<00:00, 1116826.51it/s]\n",
      "Building uncomp circuit from circuit graph: 100%|██████████| 45/45 [00:00<00:00, 28662.67it/s]\n",
      "Adding Uncomputation Nodes: 100%|██████████| 45/45 [00:00<00:00, 111616.61it/s]\n",
      "Iterating over all cycles in graph:   3%|▎         | 13548/500000 [00:00<00:03, 135471.09it/s]"
     ]
    }
   ],
   "source": [
    "num_q = 5\n",
    "results_dict = {}\n",
    "for idx in range(3,10):\n",
    "    results = ProbDiffResults()\n",
    "    filled_results = get_circuit_metrics(num_q, idx, results)\n",
    "    print(filled_results)\n",
    "    results_dict.update({idx: filled_results})\n",
    "    "
   ]
  },
  {
   "cell_type": "code",
   "execution_count": 118,
   "metadata": {},
   "outputs": [
    {
     "name": "stdout",
     "output_type": "stream",
     "text": [
      "3\n",
      "\n",
      "                Exhaustive Comp Avg:\t\t0.19248128318\n",
      "                Exhaustive UnComp Avg:\t\t0.19140895271\n",
      "                Greedy Full Comp Avg:\t\t0.19248128318\n",
      "                Greedy Full UnComp Avg:\t\t0.19140895271\n",
      "                Greedy Partial Comp Avg:\t0.19248128318\n",
      "                Greedy Partial UnComp Avg:\t0.19140895271\n",
      "                Regular Comp Avg:\t\t0.0\n",
      "                Regular UnComp Avg:\t\t0.0\n",
      "                \n",
      "-------------------------------\n",
      "4\n",
      "\n",
      "                Exhaustive Comp Avg:\t\t0.18267013908000002\n",
      "                Exhaustive UnComp Avg:\t\t0.181036469\n",
      "                Greedy Full Comp Avg:\t\t0.18267013908000002\n",
      "                Greedy Full UnComp Avg:\t\t0.181036469\n",
      "                Greedy Partial Comp Avg:\t0.18267013908000002\n",
      "                Greedy Partial UnComp Avg:\t0.18195296637000002\n",
      "                Regular Comp Avg:\t\t0.019764235380000002\n",
      "                Regular UnComp Avg:\t\t0.0125\n",
      "                \n",
      "-------------------------------\n",
      "5\n",
      "\n",
      "                Exhaustive Comp Avg:\t\t0.21819305989999999\n",
      "                Exhaustive UnComp Avg:\t\t0.21545247974\n",
      "                Greedy Full Comp Avg:\t\t0.21819305989999999\n",
      "                Greedy Full UnComp Avg:\t\t0.21545247974\n",
      "                Greedy Partial Comp Avg:\t0.21819305989999999\n",
      "                Greedy Partial UnComp Avg:\t0.21209879865999998\n",
      "                Regular Comp Avg:\t\t0.0\n",
      "                Regular UnComp Avg:\t\t0.0\n",
      "                \n",
      "-------------------------------\n",
      "6\n",
      "\n",
      "                Exhaustive Comp Avg:\t\t0.17764638003000002\n",
      "                Exhaustive UnComp Avg:\t\t0.17714593840999998\n",
      "                Greedy Full Comp Avg:\t\t0.17764638003000002\n",
      "                Greedy Full UnComp Avg:\t\t0.17764638003000002\n",
      "                Greedy Partial Comp Avg:\t0.17764638003000002\n",
      "                Greedy Partial UnComp Avg:\t0.17604054366000002\n",
      "                Regular Comp Avg:\t\t0.0125\n",
      "                Regular UnComp Avg:\t\t0.0125\n",
      "                \n",
      "-------------------------------\n",
      "7\n",
      "\n",
      "                Exhaustive Comp Avg:\t\t0.19116709125\n",
      "                Exhaustive UnComp Avg:\t\t0.17897403738\n",
      "                Greedy Full Comp Avg:\t\t0.19116709125\n",
      "                Greedy Full UnComp Avg:\t\t0.18568345504\n",
      "                Greedy Partial Comp Avg:\t0.19116709125\n",
      "                Greedy Partial UnComp Avg:\t0.18409733081000001\n",
      "                Regular Comp Avg:\t\t0.0\n",
      "                Regular UnComp Avg:\t\t0.0\n",
      "                \n",
      "-------------------------------\n",
      "8\n",
      "\n",
      "                Exhaustive Comp Avg:\t\t0.19262592673000004\n",
      "                Exhaustive UnComp Avg:\t\t0.18399989051000004\n",
      "                Greedy Full Comp Avg:\t\t0.19262592673000004\n",
      "                Greedy Full UnComp Avg:\t\t0.18399989051000004\n",
      "                Greedy Partial Comp Avg:\t0.19262592673000004\n",
      "                Greedy Partial UnComp Avg:\t0.18319718737000001\n",
      "                Regular Comp Avg:\t\t0.0\n",
      "                Regular UnComp Avg:\t\t0.0\n",
      "                \n",
      "-------------------------------\n",
      "9\n",
      "\n",
      "                Exhaustive Comp Avg:\t\t0.19052936340999999\n",
      "                Exhaustive UnComp Avg:\t\t0.18565793141\n",
      "                Greedy Full Comp Avg:\t\t0.19052936340999999\n",
      "                Greedy Full UnComp Avg:\t\t0.18606126136\n",
      "                Greedy Partial Comp Avg:\t0.19052936340999999\n",
      "                Greedy Partial UnComp Avg:\t0.18548087713\n",
      "                Regular Comp Avg:\t\t0.0\n",
      "                Regular UnComp Avg:\t\t0.0\n",
      "                \n",
      "-------------------------------\n"
     ]
    }
   ],
   "source": [
    "x_axis = []\n",
    "ex_comp_avg = []\n",
    "ex_uncomp_avg = []\n",
    "gf_comp_avg = []\n",
    "gf_uncomp_avg = []\n",
    "gp_comp_avg = []\n",
    "gp_uncomp_avg = []\n",
    "\n",
    "'''\n",
    "self.exhaustive_comp = numpy.zeros(valid_num_circuits)\n",
    "self.exhaustive_uncomp = numpy.zeros(valid_num_circuits)\n",
    "\n",
    "self.greedy_full_comp = numpy.zeros(valid_num_circuits)\n",
    "self.greedy_full_uncomp = numpy.zeros(valid_num_circuits)\n",
    "\n",
    "self.greedy_partial_comp = numpy.zeros(valid_num_circuits)\n",
    "self.greedy_partial_uncomp = numpy.zeros(valid_num_circuits)\n",
    "\n",
    "self.regular_comp = numpy.zeros(valid_num_circuits)\n",
    "self.regular_uncomp = numpy.zeros(valid_num_circuits)\n",
    "\n",
    "'''\n",
    "\n",
    "for i,x in results_dict.items():\n",
    "    print(i)\n",
    "    print(x)\n",
    "    print('-------------------------------')\n",
    "    x_axis.append(i)\n",
    "    ex_comp_avg.append(numpy.average(x.exhaustive_comp_diff))\n",
    "    ex_uncomp_avg.append(numpy.average(x.exhaustive_uncomp_diff))\n",
    "    gf_comp_avg.append(numpy.average(x.greedy_full_comp_diff))\n",
    "    gf_uncomp_avg.append(numpy.average(x.greedy_full_uncomp_diff))\n",
    "    gp_comp_avg.append(numpy.average(x.greedy_partial_comp_diff))\n",
    "    gp_uncomp_avg.append(numpy.average(x.greedy_partial_uncomp_diff))"
   ]
  },
  {
   "cell_type": "code",
   "execution_count": 119,
   "metadata": {},
   "outputs": [
    {
     "name": "stdout",
     "output_type": "stream",
     "text": [
      "[3, 4, 5, 6, 7, 8, 9]\n",
      "[np.float64(0.19248128318), np.float64(0.18267013908000002), np.float64(0.21819305989999999), np.float64(0.17764638003000002), np.float64(0.19116709125), np.float64(0.19262592673000004), np.float64(0.19052936340999999)]\n",
      "[np.float64(0.19140895271), np.float64(0.181036469), np.float64(0.21545247974), np.float64(0.17714593840999998), np.float64(0.17897403738), np.float64(0.18399989051000004), np.float64(0.18565793141)]\n",
      "[np.float64(0.19248128318), np.float64(0.18267013908000002), np.float64(0.21819305989999999), np.float64(0.17764638003000002), np.float64(0.19116709125), np.float64(0.19262592673000004), np.float64(0.19052936340999999)]\n",
      "[np.float64(0.19140895271), np.float64(0.181036469), np.float64(0.21545247974), np.float64(0.17764638003000002), np.float64(0.18568345504), np.float64(0.18399989051000004), np.float64(0.18606126136)]\n",
      "[np.float64(0.19248128318), np.float64(0.18267013908000002), np.float64(0.21819305989999999), np.float64(0.17764638003000002), np.float64(0.19116709125), np.float64(0.19262592673000004), np.float64(0.19052936340999999)]\n",
      "[np.float64(0.19140895271), np.float64(0.18195296637000002), np.float64(0.21209879865999998), np.float64(0.17604054366000002), np.float64(0.18409733081000001), np.float64(0.18319718737000001), np.float64(0.18548087713)]\n"
     ]
    }
   ],
   "source": [
    "print(x_axis)\n",
    "print(ex_comp_avg)\n",
    "print(ex_uncomp_avg)\n",
    "print(gf_comp_avg)\n",
    "print(gf_uncomp_avg)\n",
    "print(gp_comp_avg)\n",
    "print(gp_uncomp_avg)"
   ]
  },
  {
   "cell_type": "code",
   "execution_count": 120,
   "metadata": {},
   "outputs": [],
   "source": [
    "import matplotlib.pyplot as plt"
   ]
  },
  {
   "cell_type": "code",
   "execution_count": 121,
   "metadata": {},
   "outputs": [
    {
     "data": {
      "image/png": "[encoded data removed]",
      "text/plain": [
       "<Figure size 640x480 with 1 Axes>"
      ]
     },
     "metadata": {},
     "output_type": "display_data"
    }
   ],
   "source": [
    "plt.plot(x_axis, ex_comp_avg, marker='o', linestyle='-', label='Diff1')\n",
    "plt.plot(x_axis, ex_uncomp_avg, marker='o', linestyle='-', label='Diff2')\n",
    "# plt.setp(lines)\n",
    "plt.title(f'Difference between the probability distribution of original and uncomputed circuit')\n",
    "plt.xlabel('Number of Ancillary Qubits')\n",
    "plt.ylabel('Difference in Probability Distribution')\n",
    "plt.legend()\n",
    "plt.show()"
   ]
  },
  {
   "cell_type": "code",
   "execution_count": 122,
   "metadata": {},
   "outputs": [
    {
     "data": {
      "image/png": "[encoded data removed]",
      "text/plain": [
       "<Figure size 1500x300 with 3 Axes>"
      ]
     },
     "metadata": {},
     "output_type": "display_data"
    }
   ],
   "source": [
    "plt.rcParams['font.size'] = 6\n",
    "fig, (ax1, ax2, ax3) = plt.subplots(1,3,figsize=(15,3))\n",
    "\n",
    "ax1.plot(x_axis, ex_comp_avg, marker='o', linestyle='-', label='Regular')\n",
    "ax1.plot(x_axis, ex_uncomp_avg, marker='o', linestyle='-', label='Uncomputed')\n",
    "ax1.set_title('Exhaustive Uncomputation')\n",
    "ax1.set_xlabel('Number of Ancilla Qubits')\n",
    "ax1.set_ylabel('Difference in Probability Distribution')\n",
    "\n",
    "ax2.plot(x_axis, gf_comp_avg, marker='o', linestyle='-')\n",
    "ax2.plot(x_axis, gf_uncomp_avg, marker='o', linestyle='-')\n",
    "ax2.set_title('Greedy-Full Uncomputation')\n",
    "ax2.set_xlabel('Number of Ancilla Qubits')\n",
    "ax2.set_ylabel('Difference in Probability Distribution')\n",
    "\n",
    "ax3.plot(x_axis, gp_comp_avg, marker='o', linestyle='-')\n",
    "ax3.plot(x_axis, gp_uncomp_avg, marker='o', linestyle='-')\n",
    "ax3.set_title('Greedy-Partial Uncomputation')\n",
    "ax3.set_xlabel('Number of Ancilla Qubits')\n",
    "ax3.set_ylabel('Difference in Probability Distribution')\n",
    "\n",
    "fig.suptitle('Difference in Probability Distribution of Regular and Uncomputed Circuit against Ideal Circuit', fontsize=10)\n",
    "fig.legend()\n",
    "\n",
    "plt.show()\n"
   ]
  },
  {
   "cell_type": "code",
   "execution_count": null,
   "metadata": {},
   "outputs": [],
   "source": []
  }
 ],
 "metadata": {
  "kernelspec": {
   "display_name": "Python 3",
   "language": "python",
   "name": "python3"
  },
  "language_info": {
   "codemirror_mode": {
    "name": "ipython",
    "version": 3
   },
   "file_extension": ".py",
   "mimetype": "text/x-python",
   "name": "python",
   "nbconvert_exporter": "python",
   "pygments_lexer": "ipython3",
   "version": "3.10.12"
  }
 },
 "nbformat": 4,
 "nbformat_minor": 2
}
