{
 "cells": [
  {
   "cell_type": "code",
   "execution_count": 70,
   "metadata": {},
   "outputs": [],
   "source": [
    "import numpy as np\n",
    "import random\n",
    "\n",
    "# Import Qiskit\n",
    "from qiskit import QuantumCircuit, QuantumRegister, transpile\n",
    "from qiskit_aer import AerSimulator\n",
    "from qiskit_aer.quantum_info import AerStatevector\n",
    "\n",
    "from qiskit.visualization import plot_histogram, plot_state_city\n",
    "import qiskit.quantum_info as qi"
   ]
  },
  {
   "cell_type": "code",
   "execution_count": 71,
   "metadata": {},
   "outputs": [
    {
     "data": {
      "text/plain": [
       "AerSimulator('aer_simulator')"
      ]
     },
     "execution_count": 71,
     "metadata": {},
     "output_type": "execute_result"
    }
   ],
   "source": [
    "simulator = AerSimulator()\n",
    "simulator"
   ]
  },
  {
   "cell_type": "code",
   "execution_count": 72,
   "metadata": {},
   "outputs": [],
   "source": [
    "def random_quantum_circuit_basic() -> tuple[QuantumCircuit,int,int,int]:\n",
    "    num_q = random.randint(3,5)\n",
    "    num_a = random.randint(3,5)\n",
    "    num_g = random.randint(5,10)\n",
    "    \n",
    "    in_q = QuantumRegister(num_q, name='cq')\n",
    "    an_q = QuantumRegister(num_a, name='aq')\n",
    "    \n",
    "    circuit = QuantumCircuit(in_q, an_q)\n",
    "\n",
    "    for i in range(num_q):\n",
    "        circuit.h(in_q[i])\n",
    "    \n",
    "    for i in range(num_g):\n",
    "        \n",
    "        if random.random() < 0.75: # Input acts on Ancilla    \n",
    "            control_q = in_q\n",
    "            target_q = an_q\n",
    "\n",
    "        else: # Ancilla acts on input\n",
    "            control_q = an_q\n",
    "            target_q = in_q\n",
    "\n",
    "        num_controls = random.randint(1, control_q.size)\n",
    "        controls = random.sample(range(control_q.size), num_controls)  # Get control qubit/s\n",
    "        target = random.randrange(target_q.size) # Get target qubit\n",
    "        print(num_controls, controls, target)\n",
    "        circuit.mcx([control_q[cq] for cq in controls],target_q[target]) \n",
    "\n",
    "    print(f'Built circuit with {num_q} input, {num_a} ancilla and {num_g} gates.')\n",
    "    return circuit, num_q, num_a, num_g"
   ]
  },
  {
   "cell_type": "code",
   "execution_count": 73,
   "metadata": {},
   "outputs": [],
   "source": [
    "# circuit, q, a, g = random_quantum_circuit_basic()\n",
    "# circuit.measure_all()\n",
    "# circuit.draw('mpl')"
   ]
  },
  {
   "cell_type": "code",
   "execution_count": 74,
   "metadata": {},
   "outputs": [],
   "source": [
    "# simulator = AerSimulator()\n",
    "# circ = transpile(circuit, simulator)"
   ]
  },
  {
   "cell_type": "code",
   "execution_count": 75,
   "metadata": {},
   "outputs": [],
   "source": [
    "# circ.draw('mpl')"
   ]
  },
  {
   "cell_type": "code",
   "execution_count": 76,
   "metadata": {},
   "outputs": [],
   "source": [
    "# result = simulator.run(circ).result()\n",
    "# counts = result.get_counts(circ)\n",
    "# plot_histogram(counts, title='state counts')"
   ]
  },
  {
   "cell_type": "code",
   "execution_count": 77,
   "metadata": {},
   "outputs": [],
   "source": [
    "# circuit2, q, a, g = random_quantum_circuit_basic()\n",
    "# circuit2.draw('mpl')"
   ]
  },
  {
   "cell_type": "code",
   "execution_count": 78,
   "metadata": {},
   "outputs": [],
   "source": [
    "# circuit_statevector = AerStatevector(circuit2)\n",
    "# circuit_statevector.data"
   ]
  },
  {
   "cell_type": "code",
   "execution_count": 79,
   "metadata": {},
   "outputs": [
    {
     "data": {
      "image/png": "[encoded data removed]",
      "text/plain": [
       "<Figure size 287.496x284.278 with 1 Axes>"
      ]
     },
     "execution_count": 79,
     "metadata": {},
     "output_type": "execute_result"
    }
   ],
   "source": [
    "circuit_3 = QuantumCircuit(3)\n",
    "circuit_3.h(0)\n",
    "circuit_3.h(1)\n",
    "circuit_3.ccx(0,1,2)\n",
    "# circuit_3.cx(1,2)\n",
    "\n",
    "circuit_3.draw('mpl')"
   ]
  },
  {
   "cell_type": "code",
   "execution_count": 80,
   "metadata": {},
   "outputs": [
    {
     "data": {
      "text/plain": [
       "array([ 5.00000000e-01-3.06161700e-17j,  5.00000000e-01+0.00000000e+00j,\n",
       "        5.00000000e-01-5.55111512e-17j,  7.85046229e-17+7.85046229e-17j,\n",
       "        0.00000000e+00+3.06161700e-17j,  0.00000000e+00+3.06161700e-17j,\n",
       "       -3.08148791e-33+3.92523115e-17j,  5.00000000e-01-1.11022302e-16j])"
      ]
     },
     "execution_count": 80,
     "metadata": {},
     "output_type": "execute_result"
    }
   ],
   "source": [
    "circuit_3_statevector = AerStatevector(circuit_3)\n",
    "circuit_3_statevector.data"
   ]
  },
  {
   "cell_type": "code",
   "execution_count": 81,
   "metadata": {},
   "outputs": [
    {
     "data": {
      "image/png": "[encoded data removed]",
      "text/plain": [
       "<Figure size 800x500 with 2 Axes>"
      ]
     },
     "execution_count": 81,
     "metadata": {},
     "output_type": "execute_result"
    }
   ],
   "source": [
    "circuit_3_statevector.draw('hinton')"
   ]
  },
  {
   "cell_type": "code",
   "execution_count": null,
   "metadata": {},
   "outputs": [],
   "source": [
    "circuit_3.save_statevector()"
   ]
  },
  {
   "cell_type": "code",
   "execution_count": 82,
   "metadata": {},
   "outputs": [
    {
     "data": {
      "text/latex": [
       "$$\\frac{1}{2} |000\\rangle+\\frac{1}{2} |001\\rangle+\\frac{1}{2} |010\\rangle+\\frac{1}{2} |111\\rangle$$"
      ],
      "text/plain": [
       "<IPython.core.display.Latex object>"
      ]
     },
     "execution_count": 82,
     "metadata": {},
     "output_type": "execute_result"
    }
   ],
   "source": [
    "simulator = AerSimulator(method='statevector')\n",
    "\n",
    "circ = transpile(circuit_3, simulator)\n",
    "\n",
    "# Run and get statevector\n",
    "result = simulator.run(circ).result()\n",
    "statevector = result.get_statevector(circ)\n",
    "plot_state_city(statevector, title='Bell state')\n",
    "# \n",
    "statevector.draw('latex')"
   ]
  },
  {
   "cell_type": "markdown",
   "metadata": {},
   "source": [
    "eq4sv =\n",
    "[0.5,   00 -> 0\n",
    "0.5,    01 -> 0\n",
    "0,      10 -> 1\n",
    "0.5]    11 -> 1\n",
    "\n",
    "val = [x,\n",
    "y]\n",
    "\n",
    "for i,x in enumerate(eq4_sv):\n",
    "    i2 = i << num_ancilla\n",
    "    val[i2] += x"
   ]
  },
  {
   "cell_type": "code",
   "execution_count": 83,
   "metadata": {},
   "outputs": [],
   "source": [
    "from qiskit import QuantumCircuit, transpile\n",
    "from qiskit.quantum_info import random_unitary\n",
    "from qiskit_aer import AerSimulator\n",
    "\n",
    "import numpy as np\n",
    "\n",
    "# ROUNDS = 5\n",
    "# np.random.seed(0)\n",
    "# x = np.random.uniform(low=0, high=np.pi, size=(ROUNDS,))\n",
    "\n",
    "# circ = QuantumCircuit(2, ROUNDS)\n",
    "# for m in range(ROUNDS):\n",
    "#     circ.reset(0)\n",
    "#     circ.ry(x[m], 0)\n",
    "#     circ.unitary(random_unitary(4, seed = m), [0, 1], label = '  $U_' + str(m) + '$  ')\n",
    "#     circ.save_probabilities([0], label='prob-' + str(m)) # <== here\n",
    "#     circ.measure(0, m)\n",
    "\n",
    "# circ.draw('mpl', fold = -1)"
   ]
  },
  {
   "cell_type": "code",
   "execution_count": 84,
   "metadata": {},
   "outputs": [
    {
     "ename": "KeyError",
     "evalue": "'prob-0'",
     "output_type": "error",
     "traceback": [
      "\u001b[0;31m---------------------------------------------------------------------------\u001b[0m",
      "\u001b[0;31mKeyError\u001b[0m                                  Traceback (most recent call last)",
      "Cell \u001b[0;32mIn[84], line 6\u001b[0m\n\u001b[1;32m      4\u001b[0m sim_data \u001b[38;5;241m=\u001b[39m job\u001b[38;5;241m.\u001b[39mresult()\u001b[38;5;241m.\u001b[39mdata()\n\u001b[1;32m      5\u001b[0m \u001b[38;5;28;01mfor\u001b[39;00m m \u001b[38;5;129;01min\u001b[39;00m \u001b[38;5;28mrange\u001b[39m(ROUNDS):\n\u001b[0;32m----> 6\u001b[0m     \u001b[38;5;28mprint\u001b[39m(\u001b[38;5;124m'\u001b[39m\u001b[38;5;124mProbabilities \u001b[39m\u001b[38;5;132;01m{}\u001b[39;00m\u001b[38;5;124m: \u001b[39m\u001b[38;5;132;01m{}\u001b[39;00m\u001b[38;5;124m'\u001b[39m\u001b[38;5;241m.\u001b[39mformat(m, \u001b[43msim_data\u001b[49m\u001b[43m[\u001b[49m\u001b[38;5;124;43m'\u001b[39;49m\u001b[38;5;124;43mprob-\u001b[39;49m\u001b[38;5;124;43m'\u001b[39;49m\u001b[43m \u001b[49m\u001b[38;5;241;43m+\u001b[39;49m\u001b[43m \u001b[49m\u001b[38;5;28;43mstr\u001b[39;49m\u001b[43m(\u001b[49m\u001b[43mm\u001b[49m\u001b[43m)\u001b[49m\u001b[43m]\u001b[49m))\n",
      "\u001b[0;31mKeyError\u001b[0m: 'prob-0'"
     ]
    }
   ],
   "source": [
    "simulator = AerSimulator()\n",
    "tr_circ = transpile(circ)\n",
    "job = simulator.run(tr_circ)\n",
    "sim_data = job.result().data()\n",
    "for m in range(ROUNDS):\n",
    "    print('Probabilities {}: {}'.format(m, sim_data['prob-' + str(m)]))"
   ]
  },
  {
   "cell_type": "code",
   "execution_count": null,
   "metadata": {},
   "outputs": [],
   "source": []
  }
 ],
 "metadata": {
  "kernelspec": {
   "display_name": ".venv",
   "language": "python",
   "name": "python3"
  },
  "language_info": {
   "codemirror_mode": {
    "name": "ipython",
    "version": 3
   },
   "file_extension": ".py",
   "mimetype": "text/x-python",
   "name": "python",
   "nbconvert_exporter": "python",
   "pygments_lexer": "ipython3",
   "version": "3.12.3"
  }
 },
 "nbformat": 4,
 "nbformat_minor": 2
}
