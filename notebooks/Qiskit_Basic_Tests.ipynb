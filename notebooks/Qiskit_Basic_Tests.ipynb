{
 "cells": [
  {
   "cell_type": "code",
   "execution_count": 1,
   "id": "4f55b669-321a-4043-bc00-e40963460148",
   "metadata": {},
   "outputs": [],
   "source": [
    "import qiskit\n",
    "from qiskit import QuantumCircuit, QuantumRegister\n",
    "import logging\n",
    "import random"
   ]
  },
  {
   "cell_type": "code",
   "execution_count": 2,
   "id": "08072a4a",
   "metadata": {},
   "outputs": [],
   "source": [
    "\n",
    "logger = logging.getLogger(__name__)\n",
    "\n",
    "def random_quantum_circuit(num_q:int, num_a:int, num_g:int=10) -> QuantumCircuit:\n",
    "    in_q = QuantumRegister(num_q, name='cq')\n",
    "    an_q = QuantumRegister(num_a, name='aq')\n",
    "    \n",
    "    circuit = QuantumCircuit(in_q, an_q)\n",
    "    \n",
    "    for i in range(num_g):\n",
    "        \n",
    "        if random.random() < 0.75: # Input acts on Ancilla    \n",
    "            control_q = in_q\n",
    "            target_q = an_q\n",
    "\n",
    "        else: # Ancilla acts on input\n",
    "            control_q = an_q\n",
    "            target_q = in_q\n",
    "\n",
    "        num_controls = random.randint(1, control_q.size)\n",
    "        controls = random.sample(range(control_q.size), num_controls)  # Get control qubit/s\n",
    "        target = random.randrange(target_q.size) # Get target qubit\n",
    "        print(num_controls, controls, target)\n",
    "        circuit.mcx([control_q[cq] for cq in controls],target_q[target]) \n",
    "\n",
    "    logger.info(f'Built circuit with {num_q} input, {num_a} ancilla and {num_g} gates.')\n",
    "    return circuit"
   ]
  },
  {
   "cell_type": "code",
   "execution_count": 3,
   "id": "1d425d34",
   "metadata": {},
   "outputs": [
    {
     "name": "stdout",
     "output_type": "stream",
     "text": [
      "4 [3, 0, 2, 1] 2\n",
      "1 [1] 2\n",
      "3 [3, 1, 0] 3\n",
      "4 [1, 0, 3, 2] 0\n",
      "2 [1, 0] 1\n"
     ]
    }
   ],
   "source": [
    "num_q=4\n",
    "num_a=4\n",
    "num_g=5\n",
    "circuit = random_quantum_circuit(num_q,num_a,num_g)"
   ]
  },
  {
   "cell_type": "code",
   "execution_count": 4,
   "id": "cdaaa471",
   "metadata": {},
   "outputs": [],
   "source": [
    "def breakdown_qubit(qubit: qiskit.circuit.Qubit):\n",
    "    return {'name':qubit._register.name, 'wire':qubit._index, 'qubit':qubit, 'label':qubit._register.name+str(qubit._index)}\n",
    "\n"
   ]
  },
  {
   "cell_type": "code",
   "execution_count": 5,
   "id": "cc53a83b",
   "metadata": {},
   "outputs": [],
   "source": [
    "ancillas_list = [breakdown_qubit(q)['label'] for q in circuit.qubits][-num_a:]"
   ]
  },
  {
   "cell_type": "code",
   "execution_count": 6,
   "id": "c491d9b7",
   "metadata": {},
   "outputs": [
    {
     "data": {
      "text/plain": [
       "['aq0', 'aq1', 'aq2', 'aq3']"
      ]
     },
     "execution_count": 6,
     "metadata": {},
     "output_type": "execute_result"
    }
   ],
   "source": [
    "ancillas_list"
   ]
  },
  {
   "cell_type": "code",
   "execution_count": 7,
   "id": "bb257edd",
   "metadata": {},
   "outputs": [
    {
     "data": {
      "text/html": [
       "<pre style=\"word-wrap: normal;white-space: pre;background: #fff0;line-height: 1.1;font-family: &quot;Courier New&quot;,Courier,monospace\">     ┌───┐          ┌───┐                         \n",
       "q_0: ┤ H ├──■───────┤ X ├─────────────────────────\n",
       "     ├───┤  │       └─┬─┘                         \n",
       "q_1: ┤ H ├──┼────■────┼───────────────────────────\n",
       "     ├───┤  │    │    │                           \n",
       "q_2: ┤ H ├──┼────┼────┼──────────────■────────────\n",
       "     └───┘┌─┴─┐┌─┴─┐  │  ┌───┐     ┌─┴─┐     ┌───┐\n",
       "q_3: ─────┤ X ├┤ X ├──■──┤ X ├──■──┤ X ├──■──┤ X ├\n",
       "          └───┘└───┘     └─┬─┘┌─┴─┐└───┘┌─┴─┐└─┬─┘\n",
       "q_4: ──────────────────────■──┤ X ├─────┤ X ├──■──\n",
       "                              └───┘     └───┘     \n",
       "q_5: ─────────────────────────────────────────────\n",
       "                                                  </pre>"
      ],
      "text/plain": [
       "     ┌───┐          ┌───┐                         \n",
       "q_0: ┤ H ├──■───────┤ X ├─────────────────────────\n",
       "     ├───┤  │       └─┬─┘                         \n",
       "q_1: ┤ H ├──┼────■────┼───────────────────────────\n",
       "     ├───┤  │    │    │                           \n",
       "q_2: ┤ H ├──┼────┼────┼──────────────■────────────\n",
       "     └───┘┌─┴─┐┌─┴─┐  │  ┌───┐     ┌─┴─┐     ┌───┐\n",
       "q_3: ─────┤ X ├┤ X ├──■──┤ X ├──■──┤ X ├──■──┤ X ├\n",
       "          └───┘└───┘     └─┬─┘┌─┴─┐└───┘┌─┴─┐└─┬─┘\n",
       "q_4: ──────────────────────■──┤ X ├─────┤ X ├──■──\n",
       "                              └───┘     └───┘     \n",
       "q_5: ─────────────────────────────────────────────\n",
       "                                                  "
      ]
     },
     "execution_count": 7,
     "metadata": {},
     "output_type": "execute_result"
    }
   ],
   "source": [
    "circuit2 = QuantumCircuit(6)\n",
    "for i in range(3):\n",
    "    circuit2.h(i)\n",
    "    \n",
    "circuit2.cx(0,3)\n",
    "circuit2.cx(1,3)\n",
    "\n",
    "\n",
    "circuit2.cx(3,0)\n",
    "\n",
    "circuit2.cx(4,3)\n",
    "circuit2.cx(3,4)\n",
    "\n",
    "circuit2.cx(2,3)\n",
    "\n",
    "circuit2.cx(3,4)\n",
    "circuit2.cx(4,3)\n",
    "\n",
    "# circuit.cx(0,5)\n",
    "# circuit.cx(1,5)\n",
    "# circuit.cx(2,5)\n",
    "\n",
    "circuit2.draw()"
   ]
  }
 ],
 "metadata": {
  "kernelspec": {
   "display_name": "Python 3",
   "language": "python",
   "name": "python3"
  },
  "language_info": {
   "codemirror_mode": {
    "name": "ipython",
    "version": 3
   },
   "file_extension": ".py",
   "mimetype": "text/x-python",
   "name": "python",
   "nbconvert_exporter": "python",
   "pygments_lexer": "ipython3",
   "version": "3.10.12"
  }
 },
 "nbformat": 4,
 "nbformat_minor": 5
}
