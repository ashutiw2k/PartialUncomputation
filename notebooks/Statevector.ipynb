{
 "cells": [
  {
   "cell_type": "code",
   "execution_count": 122,
   "metadata": {},
   "outputs": [],
   "source": [
    "from qiskit import QuantumCircuit, QuantumRegister\n",
    "import os, sys\n",
    "import numpy\n",
    "import random\n",
    "from tqdm import tqdm\n",
    "import rustworkx\n",
    "import json\n",
    "import matplotlib.pyplot as plt\n",
    "from qiskit.quantum_info import Statevector, partial_trace\n",
    "\n",
    "if not '../' in sys.path:\n",
    "    sys.path.insert(1, '../')"
   ]
  },
  {
   "cell_type": "code",
   "execution_count": 123,
   "metadata": {},
   "outputs": [],
   "source": [
    "from helperfunctions.circuitgraphfunctions import get_computation_graph, get_uncomp_circuit\n",
    "from helperfunctions.uncompfunctions import add_uncomputation, exhaustive_uncomputation_adding, greedy_uncomputation_full, greedy_uncomputation_partial\n",
    "from helperfunctions.graphhelper import edge_attr, edge_matcher,node_attr,node_matcher, breakdown_qubit\n",
    "from helperfunctions.measurecircuit import get_statevector, get_probability_from_statevector, zero_ancillas_in_statevector\n",
    "from helperfunctions.constants import UncompType\n",
    "from helperfunctions.randomcircuit import random_quantum_circuit_large_with_params\n",
    "\n",
    "from rustworkx.visualization import graphviz_draw"
   ]
  },
  {
   "cell_type": "code",
   "execution_count": 124,
   "metadata": {},
   "outputs": [
    {
     "name": "stderr",
     "output_type": "stream",
     "text": [
      "Building Random Quantum Circuit with 4q, 7a, 40g: 100%|██████████| 40/40 [00:00<00:00, 13043.00it/s]\n",
      "Adding Nodes for Circuit: 100%|██████████| 70/70 [00:00<00:00, 64855.60it/s]\n"
     ]
    }
   ],
   "source": [
    "# Change these values for different number of input(q), ancilla(a) and gates(g)\n",
    "q = 4\n",
    "a = 7 \n",
    "g = 40\n",
    "comp_circuit, q, a, g = random_quantum_circuit_large_with_params(num_q=q,num_a=a,num_g=g,\n",
    "                                                                 add_random_h=True)\n",
    "# comp_circuit.draw('latex')\n",
    "ancillas_list = [breakdown_qubit(q)['label'] for q in comp_circuit.qubits][-a:]\n",
    "# ancillas = breakdown_qubit\n",
    "comp_graph = get_computation_graph(comp_circuit, ancillas_list)"
   ]
  },
  {
   "cell_type": "code",
   "execution_count": 125,
   "metadata": {},
   "outputs": [
    {
     "name": "stderr",
     "output_type": "stream",
     "text": [
      "Checking Out Exhaustive Uncomp for All Ancillas: 128it [00:00, 423.83it/s]\n",
      "Building uncomp circuit from circuit graph: 100%|██████████| 81/81 [00:00<00:00, 42923.39it/s]\n"
     ]
    }
   ],
   "source": [
    "largest_ancilla = exhaustive_uncomputation_adding(comp_graph, ancillas_list)\n",
    "exhaustive_cg, cycle = add_uncomputation(comp_graph, largest_ancilla)\n",
    "exhaustive_circuit = get_uncomp_circuit(exhaustive_cg)"
   ]
  },
  {
   "cell_type": "code",
   "execution_count": 126,
   "metadata": {},
   "outputs": [
    {
     "name": "stderr",
     "output_type": "stream",
     "text": [
      "Iterating over all cycles in graph:   0%|          | 0/100000 [00:00<?, ?it/s]"
     ]
    },
    {
     "name": "stderr",
     "output_type": "stream",
     "text": [
      "Iterating over all cycles in graph: 100001it [00:00, 277751.57it/s]                           \n"
     ]
    },
    {
     "name": "stdout",
     "output_type": "stream",
     "text": [
      "aq3 258000\n"
     ]
    },
    {
     "name": "stderr",
     "output_type": "stream",
     "text": [
      "Iterating over all cycles in graph: 100001it [00:00, 244723.82it/s]                           \n"
     ]
    },
    {
     "name": "stdout",
     "output_type": "stream",
     "text": [
      "aq0 152812\n"
     ]
    },
    {
     "name": "stderr",
     "output_type": "stream",
     "text": [
      "Iterating over all cycles in graph: 100001it [00:00, 288208.61it/s]                           \n"
     ]
    },
    {
     "name": "stdout",
     "output_type": "stream",
     "text": [
      "aq6 115485\n"
     ]
    },
    {
     "name": "stderr",
     "output_type": "stream",
     "text": [
      "Iterating over all cycles in graph: 100001it [00:00, 177444.34it/s]                           \n"
     ]
    },
    {
     "name": "stdout",
     "output_type": "stream",
     "text": [
      "aq5 100002\n"
     ]
    },
    {
     "name": "stderr",
     "output_type": "stream",
     "text": [
      "Iterating over all cycles in graph:   0%|          | 4/100000 [00:00<00:01, 61908.55it/s]\n"
     ]
    },
    {
     "name": "stdout",
     "output_type": "stream",
     "text": [
      "aq1 4\n"
     ]
    },
    {
     "name": "stderr",
     "output_type": "stream",
     "text": [
      "Building uncomp circuit from circuit graph: 100%|██████████| 81/81 [00:00<00:00, 47310.77it/s]\n"
     ]
    }
   ],
   "source": [
    "greedy_full_cg = greedy_uncomputation_full(comp_graph, ancillas_list)\n",
    "greedy_full_circuit = get_uncomp_circuit(greedy_full_cg)"
   ]
  },
  {
   "cell_type": "code",
   "execution_count": 127,
   "metadata": {},
   "outputs": [
    {
     "name": "stderr",
     "output_type": "stream",
     "text": [
      "Iterating over all cycles: 100001it [00:00, 231222.36it/s]                           \n"
     ]
    },
    {
     "name": "stdout",
     "output_type": "stream",
     "text": [
      "aq3 258000\n"
     ]
    },
    {
     "name": "stderr",
     "output_type": "stream",
     "text": [
      "Building uncomp circuit from circuit graph: 100%|██████████| 90/90 [00:00<00:00, 42172.65it/s]\n"
     ]
    }
   ],
   "source": [
    "greedy_part_cg = greedy_uncomputation_partial(comp_graph, ancillas_list)\n",
    "greedy_part_circuit = get_uncomp_circuit(greedy_part_cg)"
   ]
  },
  {
   "cell_type": "code",
   "execution_count": 128,
   "metadata": {},
   "outputs": [],
   "source": [
    "no_uncomp = Statevector(comp_circuit).probabilities_dict(range(q))\n",
    "exhaustive = Statevector(exhaustive_circuit).probabilities_dict(range(q))\n",
    "greedy_full = Statevector(greedy_full_circuit).probabilities_dict(range(q))\n",
    "greedy_part = Statevector(greedy_part_circuit).probabilities_dict(range(q))"
   ]
  },
  {
   "cell_type": "code",
   "execution_count": 129,
   "metadata": {},
   "outputs": [],
   "source": [
    "plot_x = no_uncomp.keys()\n",
    "plt_dict = {'no_uncomp':[], 'exhaustive':[], 'greedy_full':[], 'greedy_part':[]}\n",
    "for i in plot_x:\n",
    "    plt_dict['no_uncomp'].append(no_uncomp[i])\n",
    "    plt_dict['exhaustive'].append(exhaustive[i])\n",
    "    plt_dict['greedy_full'].append(greedy_full[i])\n",
    "    plt_dict['greedy_part'].append(greedy_part[i])"
   ]
  },
  {
   "cell_type": "code",
   "execution_count": 130,
   "metadata": {},
   "outputs": [],
   "source": [
    "x = numpy.arange(len(plot_x))  # the label locations\n",
    "width = 0.2  # the width of the bars\n",
    "multiplier = 0"
   ]
  },
  {
   "cell_type": "code",
   "execution_count": 131,
   "metadata": {},
   "outputs": [],
   "source": [
    "import pandas as pd"
   ]
  },
  {
   "cell_type": "code",
   "execution_count": 132,
   "metadata": {},
   "outputs": [
    {
     "data": {
      "image/png": "[encoded data removed]",
      "text/plain": [
       "<Figure size 640x480 with 1 Axes>"
      ]
     },
     "metadata": {},
     "output_type": "display_data"
    }
   ],
   "source": [
    "plt.bar(x=plot_x, height=plt_dict['no_uncomp'])\n",
    "plt.bar(x=plot_x, height=plt_dict['exhaustive'])\n",
    "plt.bar(x=plot_x, height=plt_dict['greedy_full'])\n",
    "plt.bar(x=plot_x, height=plt_dict['greedy_part'])\n",
    "\n",
    "plt.show()"
   ]
  },
  {
   "cell_type": "code",
   "execution_count": 133,
   "metadata": {},
   "outputs": [
    {
     "data": {
      "image/png": "[encoded data removed]",
      "text/plain": [
       "<Figure size 1000x600 with 1 Axes>"
      ]
     },
     "metadata": {},
     "output_type": "display_data"
    }
   ],
   "source": [
    "x = numpy.arange(len(plot_x))  # the label locations\n",
    "width = 0.2  # the width of the bars\n",
    "\n",
    "fig, ax = plt.subplots(figsize=(10, 6))\n",
    "rects1 = ax.bar(x - 1.5 * width, plt_dict['no_uncomp'], width, label='No Uncomputation')\n",
    "rects2 = ax.bar(x - 0.5 * width, plt_dict['exhaustive'], width, label='Exhaustive')\n",
    "rects3 = ax.bar(x + 0.5 * width, plt_dict['greedy_full'], width, label='Greedy-Full')\n",
    "rects4 = ax.bar(x + 1.5 * width, plt_dict['greedy_part'], width, label='Greedy-Partial')\n",
    "\n",
    "ax.set_xlabel('Vector State')\n",
    "ax.set_ylabel('Probability')\n",
    "ax.set_title('Multiple Bar Plots')\n",
    "ax.set_xticks(x)\n",
    "uni_I = ''\n",
    "uni_K = ''\n",
    "\n",
    "ax.set_xticklabels([f'{uni_I}{i}{uni_K}' for i in plot_x])\n",
    "ax.legend()\n",
    "\n",
    "# Show the plot\n",
    "plt.tight_layout()\n",
    "plt.show()"
   ]
  },
  {
   "cell_type": "code",
   "execution_count": null,
   "metadata": {},
   "outputs": [],
   "source": []
  }
 ],
 "metadata": {
  "kernelspec": {
   "display_name": ".venv",
   "language": "python",
   "name": "python3"
  },
  "language_info": {
   "codemirror_mode": {
    "name": "ipython",
    "version": 3
   },
   "file_extension": ".py",
   "mimetype": "text/x-python",
   "name": "python",
   "nbconvert_exporter": "python",
   "pygments_lexer": "ipython3",
   "version": "3.10.12"
  }
 },
 "nbformat": 4,
 "nbformat_minor": 2
}
