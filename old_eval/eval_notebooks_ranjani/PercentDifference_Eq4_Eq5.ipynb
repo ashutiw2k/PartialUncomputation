{
 "cells": [
  {
   "cell_type": "code",
   "execution_count": 1,
   "metadata": {},
   "outputs": [],
   "source": [
    "from qiskit import QuantumCircuit, QuantumRegister\n",
    "import os, sys\n",
    "import numpy\n",
    "import random\n",
    "from tqdm import tqdm\n",
    "import rustworkx\n",
    "import json\n",
    "import matplotlib.pyplot as plt\n",
    "\n",
    "if not '../' in sys.path:\n",
    "    sys.path.insert(1, '../')"
   ]
  },
  {
   "cell_type": "code",
   "execution_count": 2,
   "metadata": {},
   "outputs": [],
   "source": [
    "from helperfunctions.circuitgraphfunctions import get_computation_graph, get_uncomp_circuit\n",
    "from helperfunctions.uncompfunctions import add_uncomputation, exhaustive_uncomputation_adding, greedy_uncomputation_full, greedy_uncomputation_partial\n",
    "from helperfunctions.graphhelper import edge_attr, edge_matcher,node_attr,node_matcher, breakdown_qubit\n",
    "from helperfunctions.measurecircuit import get_statevector, get_probability_from_statevector, zero_ancillas_in_statevector\n",
    "from helperfunctions.constants import UncompType\n",
    "from helperfunctions.randomcircuit import random_quantum_circuit_large_with_params\n",
    "\n",
    "from rustworkx.visualization import graphviz_draw"
   ]
  },
  {
   "cell_type": "code",
   "execution_count": null,
   "metadata": {},
   "outputs": [],
   "source": [
    "def get_eval_results(comp_circuit: QuantumCircuit, uncomp_circuit:QuantumCircuit, num_a):\n",
    "    eq4_comp_statevector = get_statevector(comp_circuit)\n",
    "    eq4_comp_prob_dist = get_probability_from_statevector(eq4_comp_statevector)\n",
    "    # logger.info(f'Comp Circuit {name_str} Eq4 Probability Distribution: \\n{print_probs(eq4_comp_prob_dist)}')\n",
    "\n",
    "    eq5_comp_statevector = zero_ancillas_in_statevector(eq4_comp_statevector, num_a)\n",
    "    eq5_comp_prob_dist = get_probability_from_statevector(eq5_comp_statevector)\n",
    "    # logger.info(f'Comp Circuit {name_str} Eq5 Probability Distribution: \\n{print_probs(eq5_comp_prob_dist)}')\n",
    "\n",
    "    eq4_uncomp_statevector = get_statevector(uncomp_circuit)\n",
    "    eq4_uncomp_prob_dist = get_probability_from_statevector(eq4_uncomp_statevector)\n",
    "    # logger.info(f'{uncomp_type.capitalize()} Uncomp Circuit {name_str} Eq4 Probability Distribution: \\n{print_probs(eq4_uncomp_prob_dist)}')\n",
    "\n",
    "    distance_probs_eq5_4_comp = numpy.linalg.norm(eq5_comp_prob_dist - eq4_comp_prob_dist)\n",
    "    distance_probs_eq5_4_uncomp = numpy.linalg.norm(eq4_uncomp_prob_dist - eq5_comp_prob_dist)\n",
    "    \n",
    "    distance_probs_eq5_4_comp, distance_probs_eq5_4_uncomp = numpy.round((distance_probs_eq5_4_comp, distance_probs_eq5_4_uncomp), decimals=10)\n",
    "\n",
    "    return distance_probs_eq5_4_comp, distance_probs_eq5_4_uncomp, eq4_comp_prob_dist, eq5_comp_prob_dist, eq4_uncomp_prob_dist\n",
    "\n",
    "# Earth Movers Distance "
   ]
  }
 ],
 "metadata": {
  "kernelspec": {
   "display_name": ".venv",
   "language": "python",
   "name": "python3"
  },
  "language_info": {
   "codemirror_mode": {
    "name": "ipython",
    "version": 3
   },
   "file_extension": ".py",
   "mimetype": "text/x-python",
   "name": "python",
   "nbconvert_exporter": "python",
   "pygments_lexer": "ipython3",
   "version": "3.10.12"
  }
 },
 "nbformat": 4,
 "nbformat_minor": 2
}
